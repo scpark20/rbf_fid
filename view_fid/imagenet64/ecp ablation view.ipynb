{
 "cells": [
  {
   "cell_type": "code",
   "execution_count": null,
   "metadata": {},
   "outputs": [
    {
     "name": "stdout",
     "output_type": "stream",
     "text": [
      "==== General RBF solver (order=3) FID 결과 ====\n",
      "NFE\tFID\n",
      "5\t84.6235\n",
      "6\t63.2350\n",
      "8\t36.4634\n",
      "\n"
     ]
    }
   ],
   "source": [
    "import os, numpy as np, pandas as pd\n",
    "\n",
    "root_dir = '/data/guided-diffusion/samples/64x64_diffusion'\n",
    "model    = 'rbf_ecp_marginal'\n",
    "\n",
    "orders = [3, 4, 5, 6, 7, 8]   # 행\n",
    "NFEs   = [10]                 # 열\n",
    "\n",
    "df = pd.DataFrame(index=orders, columns=NFEs, dtype=float)\n",
    "\n",
    "for o in orders:\n",
    "    for n in NFEs:\n",
    "        path = os.path.join(root_dir, f'{model}_order{o}_{n}', 'fid.npy')\n",
    "        if os.path.exists(path):\n",
    "            df.at[o, n] = float(np.load(path))\n",
    "\n",
    "# ── 소수 둘째 자리까지, 값 없으면 '--' 표시 ────────────────────────\n",
    "fmt = lambda x: f\"{x:.2f}\" if pd.notna(x) else \"--\"\n",
    "text = df.to_string(formatters={c: fmt for c in df.columns}, na_rep='--')\n",
    "\n",
    "print('\\nFID (lower is better)\\n')\n",
    "print(text)\n",
    "ƒ"
   ]
  },
  {
   "cell_type": "code",
   "execution_count": null,
   "metadata": {},
   "outputs": [],
   "source": []
  }
 ],
 "metadata": {
  "kernelspec": {
   "display_name": "rbf",
   "language": "python",
   "name": "python3"
  },
  "language_info": {
   "codemirror_mode": {
    "name": "ipython",
    "version": 3
   },
   "file_extension": ".py",
   "mimetype": "text/x-python",
   "name": "python",
   "nbconvert_exporter": "python",
   "pygments_lexer": "ipython3",
   "version": "3.11.11"
  }
 },
 "nbformat": 4,
 "nbformat_minor": 2
}
