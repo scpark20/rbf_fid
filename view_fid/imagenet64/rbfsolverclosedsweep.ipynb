{
 "cells": [
  {
   "cell_type": "code",
   "execution_count": null,
   "metadata": {},
   "outputs": [
    {
     "ename": "",
     "evalue": "",
     "output_type": "error",
     "traceback": [
      "\u001b[1;31mRunning cells with 'Python 3.12.3' requires the ipykernel package.\n",
      "\u001b[1;31mRun the following command to install 'ipykernel' into the Python environment. \n",
      "\u001b[1;31mCommand: '/bin/python3 -m pip install ipykernel -U --user --force-reinstall'"
     ]
    }
   ],
   "source": [
    "import os\n",
    "import numpy as np\n",
    "\n",
    "def monitor_fid():\n",
    "    root_dir = \"/data/experiments_dpm-solver/imagenet64\"\n",
    "    steps = [5, 6, 8, 10, 12, 15, 20, 25]\n",
    "    orders = [3]  # 모니터링할 order 리스트\n",
    "\n",
    "    \n",
    "    # 각 order별 결과 표시\n",
    "    for order in orders:\n",
    "        results = []\n",
    "        for step in steps:\n",
    "            folder_name = f\"rbfsolverclosedsweep_order{order}_{step}_data_prediction\"\n",
    "            fid_path = os.path.join(root_dir, folder_name, \"fid.npy\")\n",
    "\n",
    "            if not os.path.isfile(fid_path):\n",
    "                #print(f\"[경고] 해당 파일을 찾을 수 없습니다: {fid_path}\")\n",
    "                continue\n",
    "\n",
    "            fid_value = float(np.load(fid_path))\n",
    "            results.append((step, fid_value))\n",
    "\n",
    "        print(f\"==== RBF solver Closed Sweep (order={order}) FID 결과 ====\")\n",
    "        print(\"NFE\\tFID\")\n",
    "        for step, fid_value in results:\n",
    "            print(f\"{step}\\t{fid_value:.4f}\")\n",
    "        print()\n",
    "\n",
    "\n",
    "# 아래 함수 호출 시 루프를 시작합니다.\n",
    "monitor_fid()\n"
   ]
  },
  {
   "cell_type": "code",
   "execution_count": null,
   "metadata": {},
   "outputs": [
    {
     "ename": "",
     "evalue": "",
     "output_type": "error",
     "traceback": [
      "\u001b[1;31mRunning cells with 'Python 3.12.3' requires the ipykernel package.\n",
      "\u001b[1;31mRun the following command to install 'ipykernel' into the Python environment. \n",
      "\u001b[1;31mCommand: '/bin/python3 -m pip install ipykernel -U --user --force-reinstall'"
     ]
    }
   ],
   "source": [
    "/bin/python3 -m pip install ipykernel -U --user --force-reinstall"
   ]
  },
  {
   "cell_type": "code",
   "execution_count": null,
   "metadata": {},
   "outputs": [],
   "source": []
  }
 ],
 "metadata": {
  "kernelspec": {
   "display_name": "Python 3",
   "language": "python",
   "name": "python3"
  },
  "language_info": {
   "codemirror_mode": {
    "name": "ipython",
    "version": 3
   },
   "file_extension": ".py",
   "mimetype": "text/x-python",
   "name": "python",
   "nbconvert_exporter": "python",
   "pygments_lexer": "ipython3",
   "version": "3.12.3"
  }
 },
 "nbformat": 4,
 "nbformat_minor": 2
}
