{
 "cells": [
  {
   "cell_type": "code",
   "execution_count": null,
   "metadata": {},
   "outputs": [
    {
     "name": "stdout",
     "output_type": "stream",
     "text": [
      "==== General RBF solver (order=3) FID 결과 ====\n",
      "NFE\tFID\n",
      "5\t84.6235\n",
      "6\t63.2350\n",
      "8\t36.4634\n",
      "\n"
     ]
    }
   ],
   "source": [
    "import os\n",
    "import numpy as np\n",
    "\n",
    "# ── 사용자 설정 ────────────────────────────────────────────\n",
    "root_dir = '/data/guided-diffusion/samples/64x64_diffusion'\n",
    "model    = 'unipc'\n",
    "orders   = [4, 5, 6, 7, 8]                          # 행 (row)\n",
    "NFEs     = [5, 10, 15, 20, 25, 30, 35, 40]          # 열 (column)\n",
    "# ──────────────────────────────────────────────────────────\n",
    "\n",
    "# (1) 빈 테이블 초기화\n",
    "table = {order: {nfe: \"–\" for nfe in NFEs} for order in orders}\n",
    "\n",
    "# (2) FID 값 채우기\n",
    "for order in orders:\n",
    "    for nfe in NFEs:\n",
    "        fid_file = os.path.join(root_dir,\n",
    "                                f\"{model}_order{order}_{nfe}\",\n",
    "                                \"fid.npy\")\n",
    "        if os.path.exists(fid_file):\n",
    "            fid = float(np.load(fid_file))\n",
    "            table[order][nfe] = f\"{fid:.2f}\"        # 소수 둘째 자리까지\n",
    "\n",
    "# (3) 텍스트 테이블 출력\n",
    "# 헤더\n",
    "header = [\"order \\\\ NFE\"] + [f\"{nfe:>6}\" for nfe in NFEs]\n",
    "print(\" | \".join(header))\n",
    "print(\"-\" * (len(header) * 9))\n",
    "\n",
    "# 각 행\n",
    "for order in orders:\n",
    "    row = [f\"{order:^11}\"] + [f\"{table[order][nfe]:>6}\" for nfe in NFEs]\n",
    "    print(\" | \".join(row))\n"
   ]
  },
  {
   "cell_type": "code",
   "execution_count": null,
   "metadata": {},
   "outputs": [],
   "source": []
  }
 ],
 "metadata": {
  "kernelspec": {
   "display_name": "rbf",
   "language": "python",
   "name": "python3"
  },
  "language_info": {
   "codemirror_mode": {
    "name": "ipython",
    "version": 3
   },
   "file_extension": ".py",
   "mimetype": "text/x-python",
   "name": "python",
   "nbconvert_exporter": "python",
   "pygments_lexer": "ipython3",
   "version": "3.11.11"
  }
 },
 "nbformat": 4,
 "nbformat_minor": 2
}
