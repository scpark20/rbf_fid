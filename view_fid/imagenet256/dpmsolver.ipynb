{
 "cells": [
  {
   "cell_type": "code",
   "execution_count": 22,
   "metadata": {},
   "outputs": [
    {
     "name": "stdout",
     "output_type": "stream",
     "text": [
      "==== DPM-Solver++ (order=3, scale=2.0) FID 결과 ====\n",
      "NFE\tFID\n",
      "5\t44.9530\n",
      "6\t38.0433\n",
      "\n",
      "==== DPM-Solver++ (order=3, scale=4.0) FID 결과 ====\n",
      "NFE\tFID\n",
      "5\t74.3676\n",
      "6\t50.7390\n",
      "\n"
     ]
    }
   ],
   "source": [
    "import os\n",
    "import numpy as np\n",
    "\n",
    "def monitor_fid():\n",
    "    root_dir = \"/data/experiments_dpm-solver/imagenet256_guided\"\n",
    "    steps = [5, 6, 8, 10, 12, 15, 20]\n",
    "    orders = [3]  # 모니터링할 order 리스트\n",
    "\n",
    "    \n",
    "    # 각 order별 결과 표시\n",
    "    for scale in [2.0, 4.0]:\n",
    "        for order in orders:\n",
    "            results = []\n",
    "            for step in steps:\n",
    "                folder_name = f\"dpmsolver++_time_uniform_order{order}_{step}_dpmsolver_{scale}\"\n",
    "                fid_path = os.path.join(root_dir, folder_name, \"fid.npy\")\n",
    "\n",
    "                if not os.path.isfile(fid_path):\n",
    "                    #print(f\"[경고] 해당 파일을 찾을 수 없습니다: {fid_path}\")\n",
    "                    continue\n",
    "\n",
    "                fid_value = float(np.load(fid_path))\n",
    "                results.append((step, fid_value))\n",
    "\n",
    "            print(f\"==== DPM-Solver++ (order={order}, scale={scale}) FID 결과 ====\")\n",
    "            print(\"NFE\\tFID\")\n",
    "            for step, fid_value in results:\n",
    "                print(f\"{step}\\t{fid_value:.4f}\")\n",
    "            print()\n",
    "\n",
    "\n",
    "# 아래 함수 호출 시 루프를 시작합니다.\n",
    "monitor_fid()\n"
   ]
  },
  {
   "cell_type": "code",
   "execution_count": 5,
   "metadata": {},
   "outputs": [
    {
     "name": "stdout",
     "output_type": "stream",
     "text": [
      "dpmsolver++_time_uniform_order3_5_dpmsolver_2.0\n",
      "dpmsolver++_time_uniform_order3_5_dpmsolver_4.0\n"
     ]
    }
   ],
   "source": [
    "!ls /data/experiments_dpm-solver/imagenet256_guided"
   ]
  },
  {
   "cell_type": "code",
   "execution_count": null,
   "metadata": {},
   "outputs": [],
   "source": []
  }
 ],
 "metadata": {
  "kernelspec": {
   "display_name": "ste",
   "language": "python",
   "name": "python3"
  },
  "language_info": {
   "codemirror_mode": {
    "name": "ipython",
    "version": 3
   },
   "file_extension": ".py",
   "mimetype": "text/x-python",
   "name": "python",
   "nbconvert_exporter": "python",
   "pygments_lexer": "ipython3",
   "version": "3.11.11"
  }
 },
 "nbformat": 4,
 "nbformat_minor": 2
}
