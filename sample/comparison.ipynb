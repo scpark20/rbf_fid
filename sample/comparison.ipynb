{
 "cells": [
  {
   "cell_type": "code",
   "execution_count": 5,
   "metadata": {},
   "outputs": [],
   "source": [
    "import torch\n",
    "\n",
    "lagrange = torch.load('samples/lagrange_sampled_x.pt')\n",
    "sasolver = torch.load('samples/sasolver_sampled_x.pt')\n",
    "unipc = torch.load('samples/unipc_sampled_x.pt')"
   ]
  },
  {
   "cell_type": "code",
   "execution_count": 6,
   "metadata": {},
   "outputs": [
    {
     "name": "stdout",
     "output_type": "stream",
     "text": [
      "tensor(0.0058, device='cuda:0')\n",
      "tensor(0.0058, device='cuda:0')\n",
      "tensor(7.6325e-05, device='cuda:0')\n"
     ]
    }
   ],
   "source": [
    "print(torch.mean(torch.abs(lagrange - sasolver)))\n",
    "print(torch.mean(torch.abs(lagrange - unipc)))\n",
    "print(torch.mean(torch.abs(sasolver - unipc)))"
   ]
  },
  {
   "cell_type": "code",
   "execution_count": null,
   "metadata": {},
   "outputs": [],
   "source": []
  }
 ],
 "metadata": {
  "kernelspec": {
   "display_name": "rbf",
   "language": "python",
   "name": "python3"
  },
  "language_info": {
   "codemirror_mode": {
    "name": "ipython",
    "version": 3
   },
   "file_extension": ".py",
   "mimetype": "text/x-python",
   "name": "python",
   "nbconvert_exporter": "python",
   "pygments_lexer": "ipython3",
   "version": "3.11.11"
  }
 },
 "nbformat": 4,
 "nbformat_minor": 2
}
