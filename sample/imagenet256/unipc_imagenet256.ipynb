{
 "cells": [
  {
   "cell_type": "code",
   "execution_count": null,
   "metadata": {},
   "outputs": [],
   "source": [
    "import os\n",
    "os.chdir('../../')"
   ]
  },
  {
   "cell_type": "code",
   "execution_count": null,
   "metadata": {},
   "outputs": [
    {
     "name": "stderr",
     "output_type": "stream",
     "text": [
      "INFO - main.py - 2025-03-29 19:15:22,650 - Using device: cuda\n",
      "INFO - main.py - 2025-03-29 19:15:22,650 - Using device: cuda\n",
      "INFO - main.py - 2025-03-29 19:15:22,650 - Using device: cuda\n",
      "INFO - main.py - 2025-03-29 19:15:22,650 - Using device: cuda\n",
      "INFO - main.py - 2025-03-29 19:15:22,650 - Using device: cuda\n"
     ]
    }
   ],
   "source": [
    "import sys\n",
    "import torch\n",
    "import numpy as np\n",
    "import matplotlib.pyplot as plt\n",
    "import torchvision.utils as vutils\n",
    "import random\n",
    "\n",
    "from main import parse_args_and_config, Diffusion\n",
    "from datasets import inverse_data_transform\n",
    "\n",
    "seed = 42\n",
    "random.seed(seed)\n",
    "np.random.seed(seed)\n",
    "torch.manual_seed(seed)\n",
    "torch.cuda.manual_seed_all(seed)\n",
    "\n",
    "torch.backends.cudnn.deterministic = True\n",
    "torch.backends.benchmark = False\n",
    "\n",
    "###############################################################################\n",
    "# 1) Notebook에서 sys.argv를 직접 설정 (argparse 흉내)\n",
    "###############################################################################\n",
    "sys.argv = [\n",
    "    \"main.py\",\n",
    "    \"--config\", \"imagenet256_guided.yml\",  # 사용하려는 config\n",
    "    \"--sample\",\n",
    "    \"--eta\", \"0\",\n",
    "    \"--sample_type\", \"unipc\",\n",
    "    \"--dpm_solver_type\", \"data_prediction\",\n",
    "    \"--dpm_solver_order\", \"3\",\n",
    "    \"--timesteps\", \"10\",\n",
    "    \"--skip_type\", \"logSNR\",\n",
    "    \"--scale\", \"2.0\",\n",
    "    \"--fixed_class\", \"0\",\n",
    "    \"--thresholding\",\n",
    "    \"--ni\"\n",
    "]\n",
    "\n",
    "###############################################################################\n",
    "# 2) 인자/설정 로드\n",
    "###############################################################################\n",
    "args, config = parse_args_and_config()\n",
    "\n",
    "###############################################################################\n",
    "# 3) Diffusion 객체 생성 -> 모델 로딩\n",
    "###############################################################################\n",
    "diffusion = Diffusion(args, config, rank=0)\n",
    "diffusion.prepare_model()\n",
    "diffusion.model.eval()\n",
    "\n",
    "###############################################################################\n",
    "# 4) 배치(25장) 한 번에 샘플링 -> 5x5 그리드(여백 없이) 시각화\n",
    "###############################################################################\n",
    "device = diffusion.device\n",
    "num_samples = 25\n",
    "\n",
    "# (a) 초기 노이즈 (배치 크기 25)\n",
    "x = np.random.randn(num_samples, config.data.channels, config.data.image_size, config.data.image_size).astype(np.float32)\n",
    "x = torch.tensor(x, device=device)\n",
    "\n",
    "# (b) 모델로 샘플링 (배치 입력)\n",
    "sampled_x, classes = diffusion.sample_image(x, diffusion.model, classifier=diffusion.classifier)\n",
    "\n",
    "# (c) [-1,1] → [0,1] 범위 변환\n",
    "sampled_x = inverse_data_transform(config, sampled_x)\n",
    "\n",
    "# (d) 5x5 그리드, padding=0 => 여백 없이\n",
    "grid = vutils.make_grid(sampled_x, nrow=5, padding=0)\n",
    "\n",
    "# (e) matplotlib 시각화\n",
    "grid_np = grid.permute(1, 2, 0).cpu().numpy()\n",
    "grid_np = np.clip(grid_np, 0, 1)\n",
    "\n",
    "plt.figure(figsize=(8,8))\n",
    "plt.imshow(grid_np)\n",
    "plt.axis('off')\n",
    "plt.title(\"25 Samples in a 5x5 Grid (No Padding)\")\n",
    "plt.show()\n",
    "\n",
    "!mkdir sample/samples\n",
    "torch.save(sampled_x, 'sample/samples/rbfcpdtargetlgtrapz.pt')"
   ]
  },
  {
   "cell_type": "code",
   "execution_count": null,
   "metadata": {},
   "outputs": [],
   "source": []
  },
  {
   "cell_type": "code",
   "execution_count": null,
   "metadata": {},
   "outputs": [],
   "source": []
  },
  {
   "cell_type": "code",
   "execution_count": null,
   "metadata": {},
   "outputs": [],
   "source": []
  }
 ],
 "metadata": {
  "kernelspec": {
   "display_name": "rbf",
   "language": "python",
   "name": "python3"
  },
  "language_info": {
   "codemirror_mode": {
    "name": "ipython",
    "version": 3
   },
   "file_extension": ".py",
   "mimetype": "text/x-python",
   "name": "python",
   "nbconvert_exporter": "python",
   "pygments_lexer": "ipython3",
   "version": "3.11.11"
  }
 },
 "nbformat": 4,
 "nbformat_minor": 2
}
