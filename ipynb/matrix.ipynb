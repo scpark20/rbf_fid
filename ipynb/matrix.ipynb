{
 "cells": [
  {
   "cell_type": "code",
   "execution_count": 11,
   "metadata": {},
   "outputs": [],
   "source": [
    "import numpy as np\n",
    "import torch\n",
    "\n",
    "def get_kernel_matrix(lambdas, beta):\n",
    "    # (p, 1)\n",
    "    lambdas = lambdas[:, None]\n",
    "    # (p, p)\n",
    "    K = torch.exp(-beta**2 * (lambdas - lambdas.T) ** 2)\n",
    "    return K"
   ]
  },
  {
   "cell_type": "code",
   "execution_count": 38,
   "metadata": {},
   "outputs": [
    {
     "name": "stdout",
     "output_type": "stream",
     "text": [
      "tensor(7.5138e-17, device='cuda:0', dtype=torch.float64)\n",
      "tensor(1.0065e-13, device='cuda:0', dtype=torch.float64)\n",
      "tensor(1.8577e-09, device='cuda:0', dtype=torch.float64)\n",
      "tensor(1.8577e-09, device='cuda:0', dtype=torch.float64)\n",
      "tensor(1.8577e-09, device='cuda:0', dtype=torch.float64)\n",
      "tensor(1.8577e-09, device='cuda:0', dtype=torch.float64)\n",
      "tensor(1.8577e-09, device='cuda:0', dtype=torch.float64)\n",
      "tensor(1.8577e-09, device='cuda:0', dtype=torch.float64)\n",
      "tensor(1.8577e-09, device='cuda:0', dtype=torch.float64)\n",
      "tensor(1.8577e-09, device='cuda:0', dtype=torch.float64)\n"
     ]
    }
   ],
   "source": [
    "device = 'cuda:0'\n",
    "corrector = False\n",
    "steps = 10\n",
    "lambdas = torch.tensor(np.linspace(-5.0778, 5.7618, steps), device=device)\n",
    "\n",
    "for i in range(steps):\n",
    "    s = 5\n",
    "    p = min(3, i+1)\n",
    "    beta = steps / (np.exp(s) * abs(lambdas[-1] - lambdas[0]))\n",
    "    lambda_array = torch.flip(lambdas[i-p+1:i+(2 if corrector else 1)], dims=[0]).to(torch.float64)\n",
    "\n",
    "    kernel = get_kernel_matrix(lambda_array, beta)\n",
    "    eye = torch.eye(p+1, device=kernel.device).to(torch.float64)\n",
    "    kernel_aug = 1 - eye\n",
    "    kernel_aug[:p, :p] = kernel\n",
    "    kernel_inv = torch.linalg.pinv(kernel_aug)\n",
    "    diff = torch.mean(abs(torch.eye(p+1, device=kernel.device) - kernel_aug @ kernel_inv))\n",
    "    print(diff)"
   ]
  },
  {
   "cell_type": "code",
   "execution_count": 40,
   "metadata": {},
   "outputs": [
    {
     "name": "stdout",
     "output_type": "stream",
     "text": [
      "Matrix([[-1/(2*exp(-beta**2*lambda_0**2 + 2*beta**2*lambda_0*lambda_1 - beta**2*lambda_1**2) - 2), 1/(2*exp(-beta**2*lambda_0**2 + 2*beta**2*lambda_0*lambda_1 - beta**2*lambda_1**2) - 2), 1/2], [1/(2*exp(-beta**2*lambda_0**2 + 2*beta**2*lambda_0*lambda_1 - beta**2*lambda_1**2) - 2), -1/(2*exp(-beta**2*lambda_0**2 + 2*beta**2*lambda_0*lambda_1 - beta**2*lambda_1**2) - 2), 1/2], [1/2, 1/2, (1 - exp(-2*beta**2*lambda_0**2 + 4*beta**2*lambda_0*lambda_1 - 2*beta**2*lambda_1**2))/(2*exp(-beta**2*lambda_0**2 + 2*beta**2*lambda_0*lambda_1 - beta**2*lambda_1**2) - 2)]])\n"
     ]
    }
   ],
   "source": [
    "import sympy as sp\n",
    "\n",
    "# 1. 심볼 정의\n",
    "beta = sp.Symbol('beta', positive=True)\n",
    "# λ_i 들도 각각 심볼로 정의하려면 차원(dimension)을 잡아야 할 수 있는데,\n",
    "# 우선 간단히 p개 지점을 각각 심볼 lambda_1, lambda_2, ... 로 정의한다고 가정.\n",
    "p = 2  # 예시, 실제로는 p를 원하는 크기로 설정\n",
    "lambdas = [sp.Symbol(f'lambda_{k}', real=True) for k in range(p)]\n",
    "\n",
    "# 2. K행렬(또는 R행렬)에 들어갈 각 원소를 심볼릭으로 구성\n",
    "#    여기서는 예시로 1차원상에서 |lambda_i - lambda_j|^2 로 처리\n",
    "#    만약 여러 차원이면 norm(·) 함수를 적절히 정의해야 함.\n",
    "K_block = []\n",
    "for i in range(p):\n",
    "    row = []\n",
    "    for j in range(p):\n",
    "        dist_sq = (lambdas[i] - lambdas[j])**2\n",
    "        row.append(sp.exp(-beta**2 * dist_sq))\n",
    "    K_block.append(row)\n",
    "\n",
    "# 3. 마지막 행과 열 붙이기\n",
    "#    블록 R = p×p (위에서 만든 K_block)\n",
    "#    마지막 열은 [1, 1, ..., 1]^T, 마지막 행은 [1, 1, ..., 1, 0].\n",
    "K = []\n",
    "for i in range(p):\n",
    "    K.append(K_block[i] + [sp.Integer(1)])\n",
    "K.append([sp.Integer(1)]*p + [sp.Integer(0)])\n",
    "\n",
    "# 4. Sympy Matrix 객체로 만든 후, 역행렬 계산\n",
    "K_mat = sp.Matrix(K)\n",
    "K_inv = K_mat.inv()  # 기호적(symbolic) 역행렬\n",
    "\n",
    "print(K_inv)\n"
   ]
  },
  {
   "cell_type": "code",
   "execution_count": null,
   "metadata": {},
   "outputs": [],
   "source": []
  }
 ],
 "metadata": {
  "kernelspec": {
   "display_name": "rbf",
   "language": "python",
   "name": "python3"
  },
  "language_info": {
   "codemirror_mode": {
    "name": "ipython",
    "version": 3
   },
   "file_extension": ".py",
   "mimetype": "text/x-python",
   "name": "python",
   "nbconvert_exporter": "python",
   "pygments_lexer": "ipython3",
   "version": "3.11.11"
  }
 },
 "nbformat": 4,
 "nbformat_minor": 2
}
