{
 "cells": [
  {
   "cell_type": "code",
   "execution_count": 2,
   "metadata": {},
   "outputs": [
    {
     "name": "stdout",
     "output_type": "stream",
     "text": [
      "[-0.97390653 -0.86506337 -0.67940957 -0.43339539 -0.14887434  0.14887434\n",
      "  0.43339539  0.67940957  0.86506337  0.97390653]\n",
      "[0.06667134 0.14945135 0.21908636 0.26926672 0.29552422 0.29552422\n",
      " 0.26926672 0.21908636 0.14945135 0.06667134]\n"
     ]
    }
   ],
   "source": [
    "import numpy as np\n",
    "\n",
    "n = 10  # 원하시는 차수 (여기서는 10-point)\n",
    "x, w = np.polynomial.legendre.leggauss(n)\n",
    "print(x)\n",
    "print(w)"
   ]
  },
  {
   "cell_type": "code",
   "execution_count": 4,
   "metadata": {},
   "outputs": [
    {
     "name": "stdout",
     "output_type": "stream",
     "text": [
      "[-0.97390653 -0.86506337 -0.67940957 -0.43339539 -0.14887434  0.14887434\n",
      "  0.43339539  0.67940957  0.86506337  0.97390653]\n",
      "[0.06667134 0.14945135 0.21908636 0.26926672 0.29552422 0.29552422\n",
      " 0.26926672 0.21908636 0.14945135 0.06667134]\n"
     ]
    }
   ],
   "source": [
    "from scipy.special import roots_legendre\n",
    "\n",
    "n = 10\n",
    "x, w = roots_legendre(n)\n",
    "print(x)\n",
    "print(w)"
   ]
  },
  {
   "cell_type": "code",
   "execution_count": 10,
   "metadata": {},
   "outputs": [
    {
     "name": "stdout",
     "output_type": "stream",
     "text": [
      "Nodes (x_i):\n",
      "-0.973906528517172\n",
      "-0.865063366688985\n",
      "-0.679409568299024\n",
      "-0.433395394129247\n",
      "-0.148874338981631\n",
      "0.148874338981631\n",
      "0.433395394129247\n",
      "0.679409568299024\n",
      "0.865063366688985\n",
      "0.973906528517172\n",
      "\n",
      "Weights (w_i):\n",
      "0.0666713443086881\n",
      "0.149451349150581\n",
      "0.219086362515982\n",
      "0.269266719309996\n",
      "0.295524224714753\n",
      "0.295524224714753\n",
      "0.269266719309996\n",
      "0.219086362515982\n",
      "0.149451349150581\n",
      "0.0666713443086881\n"
     ]
    }
   ],
   "source": [
    "from sympy.integrals.quadrature import gauss_legendre\n",
    "import sympy\n",
    "\n",
    "# 예: 10점 Gauss-Legendre, 50자릿수 이상의 정밀도\n",
    "n = 10\n",
    "prec = 100  # 원하는 정밀도\n",
    "x, w = gauss_legendre(n, prec)\n",
    "\n",
    "# x, w는 sympy의 임의정밀도(prec자리)로 계산된 리스트\n",
    "print(\"Nodes (x_i):\")\n",
    "for xi in x:\n",
    "    print(xi.evalf())\n",
    "\n",
    "print(\"\\nWeights (w_i):\")\n",
    "for wi in w:\n",
    "    print(wi.evalf())\n"
   ]
  },
  {
   "cell_type": "code",
   "execution_count": null,
   "metadata": {},
   "outputs": [],
   "source": []
  }
 ],
 "metadata": {
  "kernelspec": {
   "display_name": "rbf",
   "language": "python",
   "name": "python3"
  },
  "language_info": {
   "codemirror_mode": {
    "name": "ipython",
    "version": 3
   },
   "file_extension": ".py",
   "mimetype": "text/x-python",
   "name": "python",
   "nbconvert_exporter": "python",
   "pygments_lexer": "ipython3",
   "version": "3.11.11"
  }
 },
 "nbformat": 4,
 "nbformat_minor": 2
}
