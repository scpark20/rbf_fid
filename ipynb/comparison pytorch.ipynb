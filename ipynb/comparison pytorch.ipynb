{
 "cells": [
  {
   "cell_type": "code",
   "execution_count": 4,
   "metadata": {},
   "outputs": [
    {
     "name": "stdout",
     "output_type": "stream",
     "text": [
      "사용 중인 device: cuda\n",
      "PyTorch 학습 결과(GPU) -> 기울기: 3.1216, 편향: 1.3875\n",
      "이론적 최적 해      -> 기울기: 3,     편향: 2\n"
     ]
    }
   ],
   "source": [
    "import torch\n",
    "\n",
    "# ---------------------------------------\n",
    "# 0. device 설정 (GPU 사용 가능 여부 확인)\n",
    "# ---------------------------------------\n",
    "device = torch.device('cuda' if torch.cuda.is_available() else 'cpu')\n",
    "print(f\"사용 중인 device: {device}\")\n",
    "\n",
    "# --------------------------\n",
    "# 1. 데이터 준비\n",
    "# --------------------------\n",
    "torch.manual_seed(0)\n",
    "\n",
    "x = torch.linspace(0, 10, steps=20).unsqueeze(1).to(device)  # shape: (20, 1)\n",
    "y = 3 * x + 2 + torch.randn_like(x) * 0.5                    # shape: (20, 1)\n",
    "\n",
    "# --------------------------\n",
    "# 2. 모델 정의\n",
    "# --------------------------\n",
    "model = torch.nn.Linear(in_features=1, out_features=1).to(device)\n",
    "\n",
    "# --------------------------\n",
    "# 3. 손실 함수 & 옵티마이저\n",
    "# --------------------------\n",
    "criterion = torch.nn.MSELoss()\n",
    "optimizer = torch.optim.SGD(model.parameters(), lr=0.01)\n",
    "\n",
    "# --------------------------\n",
    "# 4. 학습 루프\n",
    "# --------------------------\n",
    "num_epochs = 1000\n",
    "for epoch in range(num_epochs):\n",
    "    # 순전파\n",
    "    pred = model(x)\n",
    "    loss = criterion(pred, y)\n",
    "    \n",
    "    # 역전파\n",
    "    optimizer.zero_grad()\n",
    "    loss.backward()\n",
    "    optimizer.step()\n",
    "\n",
    "# --------------------------\n",
    "# 5. 학습 결과 확인\n",
    "# --------------------------\n",
    "# PyTorch로 학습한 파라미터 (기울기, 편향)\n",
    "W, b = model.parameters()\n",
    "W_value = W.item()  # 가중치(기울기)\n",
    "b_value = b.item()  # 편향\n",
    "\n",
    "print(f\"PyTorch 학습 결과(GPU) -> 기울기: {W_value:.4f}, 편향: {b_value:.4f}\")\n",
    "\n",
    "# --------------------------\n",
    "# 6. 이론적 폐형해와 비교\n",
    "# --------------------------\n",
    "print(f\"이론적 최적 해      -> 기울기: 3,     편향: 2\")\n"
   ]
  },
  {
   "cell_type": "code",
   "execution_count": null,
   "metadata": {},
   "outputs": [],
   "source": []
  }
 ],
 "metadata": {
  "kernelspec": {
   "display_name": "rbf",
   "language": "python",
   "name": "python3"
  },
  "language_info": {
   "codemirror_mode": {
    "name": "ipython",
    "version": 3
   },
   "file_extension": ".py",
   "mimetype": "text/x-python",
   "name": "python",
   "nbconvert_exporter": "python",
   "pygments_lexer": "ipython3",
   "version": "3.11.11"
  }
 },
 "nbformat": 4,
 "nbformat_minor": 2
}
