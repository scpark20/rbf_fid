{
 "cells": [
  {
   "cell_type": "code",
   "execution_count": 1,
   "metadata": {},
   "outputs": [],
   "source": [
    "import os\n",
    "os.chdir('../../')"
   ]
  },
  {
   "cell_type": "code",
   "execution_count": 5,
   "metadata": {},
   "outputs": [
    {
     "name": "stderr",
     "output_type": "stream",
     "text": [
      "INFO - main.py - 2025-03-30 12:39:11,260 - Using device: cuda\n",
      "INFO - main.py - 2025-03-30 12:39:11,260 - Using device: cuda\n"
     ]
    },
    {
     "name": "stdout",
     "output_type": "stream",
     "text": [
      "[prepare_model] Model is ready.\n"
     ]
    }
   ],
   "source": [
    "import sys\n",
    "import torch\n",
    "import numpy as np\n",
    "import matplotlib.pyplot as plt\n",
    "import torchvision.utils as vutils\n",
    "import random\n",
    "\n",
    "from main import parse_args_and_config, Diffusion\n",
    "from datasets import inverse_data_transform\n",
    "\n",
    "seed = 42\n",
    "random.seed(seed)\n",
    "np.random.seed(seed)\n",
    "torch.manual_seed(seed)\n",
    "torch.cuda.manual_seed_all(seed)\n",
    "\n",
    "torch.backends.cudnn.deterministic = True\n",
    "torch.backends.benchmark = False\n",
    "\n",
    "###############################################################################\n",
    "# 1) Notebook에서 sys.argv를 직접 설정 (argparse 흉내)\n",
    "###############################################################################\n",
    "sys.argv = [\n",
    "    \"main.py\",\n",
    "    \"--config\", \"imagenet128_guided.yml\",  # 사용하려는 config\n",
    "    \"--sample\",\n",
    "    \"--eta\", \"0\",\n",
    "    \"--sample_type\", \"lagrangesolver\",\n",
    "    \"--dpm_solver_type\", \"data_prediction\",\n",
    "    \"--dpm_solver_order\", \"1\",\n",
    "    \"--timesteps\", \"10\",\n",
    "    \"--skip_type\", \"logSNR\",\n",
    "    \"--scale\", \"0.0\",\n",
    "    \"--thresholding\",\n",
    "    \"--ni\"\n",
    "]\n",
    "\n",
    "###############################################################################\n",
    "# 2) 인자/설정 로드\n",
    "###############################################################################\n",
    "args, config = parse_args_and_config()\n",
    "\n",
    "###############################################################################\n",
    "# 3) Diffusion 객체 생성 -> 모델 로딩\n",
    "###############################################################################\n",
    "diffusion = Diffusion(args, config, rank=0)\n",
    "diffusion.prepare_model()\n",
    "diffusion.model.eval()\n",
    "\n",
    "###############################################################################\n",
    "# 4) 배치(25장) 한 번에 샘플링 -> 5x5 그리드(여백 없이) 시각화\n",
    "###############################################################################\n",
    "device = diffusion.device"
   ]
  },
  {
   "cell_type": "code",
   "execution_count": 6,
   "metadata": {},
   "outputs": [
    {
     "name": "stderr",
     "output_type": "stream",
     "text": [
      "100%|██████████| 4/4 [00:01<00:00,  2.20it/s]"
     ]
    },
    {
     "name": "stdout",
     "output_type": "stream",
     "text": [
      "torch.Size([16, 2, 3, 128, 128])\n",
      "tensor([348, 940, 965,  52,  47, 108, 901, 711, 168, 530,  67, 646, 855, 978,\n",
      "         50, 578], device='cuda:0')\n"
     ]
    },
    {
     "name": "stderr",
     "output_type": "stream",
     "text": [
      "\n"
     ]
    }
   ],
   "source": [
    "from tqdm import tqdm\n",
    "\n",
    "def sample_in_batches(diffusion, config, device, total_samples=1024, batch_size=16):\n",
    "    with torch.no_grad():\n",
    "        pairs = []\n",
    "        class_list = []\n",
    "        for i in tqdm(range(0, total_samples, batch_size)):\n",
    "            bs = min(batch_size, total_samples - i)\n",
    "            noise = np.random.randn(bs, config.data.channels, config.data.image_size, config.data.image_size).astype(np.float32)\n",
    "            noise = torch.tensor(noise, device=device)\n",
    "            classes = np.random.randint(0, config.data.num_classes, size=(noise.shape[0],))\n",
    "            classes = torch.tensor(classes).to(device)\n",
    "            data, _ = diffusion.sample_image(noise, diffusion.model, classes=classes)\n",
    "            pair = torch.stack([noise, data], dim=1)\n",
    "            pairs.append(pair)\n",
    "            class_list.append(classes)\n",
    "    return torch.cat(pairs, dim=0), torch.cat(class_list, dim=0)\n",
    "\n",
    "total_samples = 16\n",
    "pairs, classes = sample_in_batches(diffusion, config, device, total_samples=total_samples, batch_size=4)\n",
    "print(pairs.shape)\n",
    "print(classes)"
   ]
  },
  {
   "cell_type": "code",
   "execution_count": 10,
   "metadata": {},
   "outputs": [
    {
     "name": "stdout",
     "output_type": "stream",
     "text": [
      "torch.Size([16, 2, 3, 128, 128]) torch.Size([16])\n"
     ]
    }
   ],
   "source": [
    "!mkdir -p /data/optimization/\n",
    "save_file = f'/data/optimization/euler_NFE=1000_N={total_samples}_imagenet128.pt'\n",
    "torch.save({'pairs': pairs.data.cpu(),\n",
    "            'classes': classes.data.cpu()\n",
    "            }, save_file)\n",
    "pairs_load = torch.load(save_file)\n",
    "print(pairs_load['pairs'].shape, pairs_load['classes'].shape)"
   ]
  },
  {
   "cell_type": "code",
   "execution_count": null,
   "metadata": {},
   "outputs": [],
   "source": []
  }
 ],
 "metadata": {
  "kernelspec": {
   "display_name": "ste",
   "language": "python",
   "name": "python3"
  },
  "language_info": {
   "codemirror_mode": {
    "name": "ipython",
    "version": 3
   },
   "file_extension": ".py",
   "mimetype": "text/x-python",
   "name": "python",
   "nbconvert_exporter": "python",
   "pygments_lexer": "ipython3",
   "version": "3.11.11"
  }
 },
 "nbformat": 4,
 "nbformat_minor": 2
}
