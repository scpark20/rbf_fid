{
 "cells": [
  {
   "cell_type": "code",
   "execution_count": 1,
   "metadata": {},
   "outputs": [],
   "source": [
    "import os\n",
    "os.chdir('../../')"
   ]
  },
  {
   "cell_type": "code",
   "execution_count": 2,
   "metadata": {},
   "outputs": [
    {
     "name": "stdout",
     "output_type": "stream",
     "text": [
      "Sun Mar 30 12:02:50 2025       \n",
      "+-----------------------------------------------------------------------------------------+\n",
      "| NVIDIA-SMI 550.54.15              Driver Version: 550.54.15      CUDA Version: 12.4     |\n",
      "|-----------------------------------------+------------------------+----------------------+\n",
      "| GPU  Name                 Persistence-M | Bus-Id          Disp.A | Volatile Uncorr. ECC |\n",
      "| Fan  Temp   Perf          Pwr:Usage/Cap |           Memory-Usage | GPU-Util  Compute M. |\n",
      "|                                         |                        |               MIG M. |\n",
      "|=========================================+========================+======================|\n",
      "|   0  NVIDIA GeForce RTX 4090        Off |   00000000:19:00.0 Off |                  Off |\n",
      "|  0%   48C    P8             32W /  450W |      11MiB /  24564MiB |      0%      Default |\n",
      "|                                         |                        |                  N/A |\n",
      "+-----------------------------------------+------------------------+----------------------+\n",
      "|   1  NVIDIA GeForce RTX 4090        Off |   00000000:68:00.0 Off |                  Off |\n",
      "| 31%   47C    P3             80W /  450W |      28MiB /  24564MiB |      0%      Default |\n",
      "|                                         |                        |                  N/A |\n",
      "+-----------------------------------------+------------------------+----------------------+\n",
      "                                                                                         \n",
      "+-----------------------------------------------------------------------------------------+\n",
      "| Processes:                                                                              |\n",
      "|  GPU   GI   CI        PID   Type   Process name                              GPU Memory |\n",
      "|        ID   ID                                                               Usage      |\n",
      "|=========================================================================================|\n",
      "|    0   N/A  N/A      1251      G   /usr/lib/xorg/Xorg                              4MiB |\n",
      "|    1   N/A  N/A      1251      G   /usr/lib/xorg/Xorg                              9MiB |\n",
      "|    1   N/A  N/A      1519      G   /usr/bin/gnome-shell                            8MiB |\n",
      "+-----------------------------------------------------------------------------------------+\n"
     ]
    }
   ],
   "source": [
    "!nvidia-smi\n",
    "os.environ[\"CUDA_VISIBLE_DEVICES\"] = \"1\""
   ]
  },
  {
   "cell_type": "markdown",
   "metadata": {},
   "source": [
    "### from \"sample pair.ipynb\""
   ]
  },
  {
   "cell_type": "code",
   "execution_count": 3,
   "metadata": {},
   "outputs": [
    {
     "name": "stdout",
     "output_type": "stream",
     "text": [
      "torch.Size([256, 3, 64, 64]) torch.Size([256, 3, 64, 64])\n"
     ]
    }
   ],
   "source": [
    "import torch\n",
    "import torch.nn.functional as F\n",
    "\n",
    "total_samples = 256\n",
    "save_file = f'/data/optimization/euler_NFE=1000_N={total_samples}_imagenet64.pt'\n",
    "pairs = torch.load(save_file)\n",
    "noise = pairs[:, 0]\n",
    "target = pairs[:, 1]\n",
    "print(noise.shape, target.shape)"
   ]
  },
  {
   "cell_type": "code",
   "execution_count": 4,
   "metadata": {},
   "outputs": [
    {
     "name": "stderr",
     "output_type": "stream",
     "text": [
      "2025-03-30 12:02:53.546958: E external/local_xla/xla/stream_executor/cuda/cuda_fft.cc:477] Unable to register cuFFT factory: Attempting to register factory for plugin cuFFT when one has already been registered\n",
      "WARNING: All log messages before absl::InitializeLog() is called are written to STDERR\n",
      "E0000 00:00:1743303773.562706   25573 cuda_dnn.cc:8310] Unable to register cuDNN factory: Attempting to register factory for plugin cuDNN when one has already been registered\n",
      "E0000 00:00:1743303773.567425   25573 cuda_blas.cc:1418] Unable to register cuBLAS factory: Attempting to register factory for plugin cuBLAS when one has already been registered\n",
      "2025-03-30 12:02:53.583991: I tensorflow/core/platform/cpu_feature_guard.cc:210] This TensorFlow binary is optimized to use available CPU instructions in performance-critical operations.\n",
      "To enable the following instructions: AVX2 AVX512F FMA, in other operations, rebuild TensorFlow with the appropriate compiler flags.\n",
      "INFO - main.py - 2025-03-30 12:02:55,326 - Using device: cuda\n"
     ]
    },
    {
     "name": "stdout",
     "output_type": "stream",
     "text": [
      "[prepare_model] Model is ready.\n"
     ]
    }
   ],
   "source": [
    "import sys\n",
    "import torch\n",
    "import numpy as np\n",
    "import matplotlib.pyplot as plt\n",
    "import torchvision.utils as vutils\n",
    "import random\n",
    "\n",
    "from main import parse_args_and_config, Diffusion\n",
    "from datasets import inverse_data_transform\n",
    "\n",
    "seed = 42\n",
    "random.seed(seed)\n",
    "np.random.seed(seed)\n",
    "torch.manual_seed(seed)\n",
    "torch.cuda.manual_seed_all(seed)\n",
    "\n",
    "torch.backends.cudnn.deterministic = True\n",
    "torch.backends.benchmark = False\n",
    "\n",
    "###############################################################################\n",
    "# 1) Notebook에서 sys.argv를 직접 설정 (argparse 흉내)\n",
    "###############################################################################\n",
    "sys.argv = [\n",
    "    \"main.py\",\n",
    "    \"--config\", \"imagenet64.yml\",  # 사용하려는 config\n",
    "    \"--sample\",\n",
    "    \"--dpm_solver_type\", \"data_prediction\",\n",
    "    \"--dpm_solver_order\", \"100\",\n",
    "    \"--skip_type\", \"logSNR\",\n",
    "    \"--ni\",\n",
    "\n",
    "    \"--sample_type\", \"rbfsolverglq10\",\n",
    "    \"--timesteps\", \"5\",\n",
    "    \"--log_scale_min\", \"-2.0\",\n",
    "    \"--log_scale_max\", \"6.0\",\n",
    "    \"--log_scale_num\", \"1000\",\n",
    "    \"--reg_weight\", '0.0',\n",
    "    \"--scale_dir\", \"/data/data/rbfsolverglq10\",\n",
    "]\n",
    "\n",
    "###############################################################################\n",
    "# 2) 인자/설정 로드\n",
    "###############################################################################\n",
    "args, config = parse_args_and_config()\n",
    "\n",
    "###############################################################################\n",
    "# 3) Diffusion 객체 생성 -> 모델 로딩\n",
    "###############################################################################\n",
    "diffusion = Diffusion(args, config, rank=0)\n",
    "diffusion.prepare_model()\n",
    "diffusion.model.eval()\n",
    "\n",
    "###############################################################################\n",
    "# 4) 배치(25장) 한 번에 샘플링 -> 5x5 그리드(여백 없이) 시각화\n",
    "###############################################################################\n",
    "device = diffusion.device\n"
   ]
  },
  {
   "cell_type": "code",
   "execution_count": 5,
   "metadata": {},
   "outputs": [
    {
     "name": "stdout",
     "output_type": "stream",
     "text": [
      "mkdir: cannot create directory ‘/data/data/rbfsolverglq10’: File exists\n",
      "'NFE=10,p=100,dataset=IMAGENET128.npy'\t'NFE=25,p=100,dataset=IMAGENET128.npy'\n",
      "'NFE=15,p=100,dataset=IMAGENET128.npy'\t'NFE=5,p=100,dataset=IMAGENET128.npy'\n",
      "'NFE=20,p=100,dataset=IMAGENET128.npy'\t'NFE=5,p=100,dataset=IMAGENET64.npy'\n",
      "'NFE=20,p=3,dataset=IMAGENET128.npy'\t'NFE=5,p=3,dataset=IMAGENET128.npy'\n"
     ]
    }
   ],
   "source": [
    "!mkdir /data/data/rbfsolverglq10\n",
    "!ls /data/data/rbfsolverglq10"
   ]
  },
  {
   "cell_type": "code",
   "execution_count": 9,
   "metadata": {},
   "outputs": [
    {
     "name": "stdout",
     "output_type": "stream",
     "text": [
      "torch.Size([256, 3, 64, 64])\n",
      "/data/data/rbfsolverglq10/NFE=5,p=100,dataset=IMAGENET64.npy  saved!\n",
      "loss : tensor(0.0335, device='cuda:0')\n",
      "[[-2.          0.4024024   4.81481481  5.96796797 -2.        ]\n",
      " [-0.71071071 -0.17417417 -0.12612613  4.82282282  0.        ]]\n"
     ]
    }
   ],
   "source": [
    "n = 256\n",
    "noise_batch = noise[:n].to(device)\n",
    "target_batch = target[:n].to(device)\n",
    "print(noise_batch.shape)\n",
    "#(pred, optimal_gammas, pred_losses_list, corr_losses_list), _ = diffusion.sample_image(noise_batch, diffusion.model, classifier=diffusion.classifier, target=target_batch)\n",
    "(pred, optimal_gammas, pred_losses_list, corr_losses_list), _ = diffusion.sample_image(noise_batch, diffusion.model, target=target_batch)\n",
    "loss = F.mse_loss(pred, target_batch)\n",
    "print('loss :', loss)\n",
    "print(optimal_gammas)\n"
   ]
  },
  {
   "cell_type": "code",
   "execution_count": 10,
   "metadata": {},
   "outputs": [
    {
     "data": {
      "image/png": "[encoded data removed]",
      "text/plain": [
       "<Figure size 640x480 with 1 Axes>"
      ]
     },
     "metadata": {},
     "output_type": "display_data"
    }
   ],
   "source": [
    "plt.plot(optimal_gammas[0])\n",
    "plt.plot(optimal_gammas[1])\n",
    "plt.show()"
   ]
  },
  {
   "cell_type": "code",
   "execution_count": 11,
   "metadata": {},
   "outputs": [
    {
     "ename": "AttributeError",
     "evalue": "'memoryview' object has no attribute 'cpu'",
     "output_type": "error",
     "traceback": [
      "\u001b[0;31m---------------------------------------------------------------------------\u001b[0m",
      "\u001b[0;31mAttributeError\u001b[0m                            Traceback (most recent call last)",
      "Cell \u001b[0;32mIn[11], line 8\u001b[0m\n\u001b[1;32m      6\u001b[0m plt\u001b[38;5;241m.\u001b[39mtitle(\u001b[38;5;124m'\u001b[39m\u001b[38;5;124mPredictor\u001b[39m\u001b[38;5;124m'\u001b[39m)\n\u001b[1;32m      7\u001b[0m \u001b[38;5;28;01mfor\u001b[39;00m i \u001b[38;5;129;01min\u001b[39;00m \u001b[38;5;28mrange\u001b[39m(\u001b[38;5;28mlen\u001b[39m(pred_losses_list)):\n\u001b[0;32m----> 8\u001b[0m     plt\u001b[38;5;241m.\u001b[39mplot(x_axis, \u001b[43mpred_losses_list\u001b[49m\u001b[43m[\u001b[49m\u001b[43mi\u001b[49m\u001b[43m]\u001b[49m\u001b[38;5;241;43m.\u001b[39;49m\u001b[43mdata\u001b[49m\u001b[38;5;241;43m.\u001b[39;49m\u001b[43mcpu\u001b[49m()\u001b[38;5;241m.\u001b[39mnumpy())\n\u001b[1;32m      9\u001b[0m plt\u001b[38;5;241m.\u001b[39mylim([\u001b[38;5;241m0.0\u001b[39m, \u001b[38;5;241m0.25\u001b[39m])\n\u001b[1;32m     10\u001b[0m plt\u001b[38;5;241m.\u001b[39mgrid()\n",
      "\u001b[0;31mAttributeError\u001b[0m: 'memoryview' object has no attribute 'cpu'"
     ]
    },
    {
     "data": {
      "image/png": "[encoded data removed]",
      "text/plain": [
       "<Figure size 1500x400 with 1 Axes>"
      ]
     },
     "metadata": {},
     "output_type": "display_data"
    }
   ],
   "source": [
    "import matplotlib.pyplot as plt\n",
    "x_axis = np.linspace(args.log_scale_min, args.log_scale_max, args.log_scale_num)\n",
    "\n",
    "plt.figure(figsize=[15, 4])\n",
    "plt.subplot(1, 2, 1)\n",
    "plt.title('Predictor')\n",
    "for i in range(len(pred_losses_list)):\n",
    "    plt.plot(x_axis, pred_losses_list[i].data.cpu().numpy())\n",
    "plt.ylim([0.0, 0.25])\n",
    "plt.grid()\n",
    "\n",
    "plt.subplot(1, 2, 2)\n",
    "plt.title('Corrector')\n",
    "for i in range(len(corr_losses_list)):\n",
    "    plt.plot(x_axis, corr_losses_list[i].data.cpu().numpy())\n",
    "plt.ylim([0.0, 0.25])\n",
    "plt.grid()\n",
    "plt.show()"
   ]
  },
  {
   "cell_type": "code",
   "execution_count": null,
   "metadata": {},
   "outputs": [],
   "source": []
  },
  {
   "cell_type": "markdown",
   "metadata": {},
   "source": [
    "### Batch"
   ]
  },
  {
   "cell_type": "code",
   "execution_count": null,
   "metadata": {},
   "outputs": [
    {
     "name": "stdout",
     "output_type": "stream",
     "text": [
      "torch.Size([32, 3, 128, 128]) torch.Size([32, 3, 128, 128])\n"
     ]
    },
    {
     "name": "stderr",
     "output_type": "stream",
     "text": [
      "  0%|          | 0/3 [00:00<?, ?it/s]INFO - main.py - 2025-03-29 20:44:58,357 - Using device: cuda\n",
      "INFO - main.py - 2025-03-29 20:44:58,357 - Using device: cuda\n"
     ]
    },
    {
     "name": "stdout",
     "output_type": "stream",
     "text": [
      "[prepare_model] Model is ready.\n"
     ]
    },
    {
     "name": "stderr",
     "output_type": "stream",
     "text": [
      " 33%|███▎      | 1/3 [00:18<00:36, 18.40s/it]INFO - main.py - 2025-03-29 20:45:16,756 - Using device: cuda\n",
      "INFO - main.py - 2025-03-29 20:45:16,756 - Using device: cuda\n",
      "INFO - main.py - 2025-03-29 20:45:16,756 - Using device: cuda\n"
     ]
    },
    {
     "name": "stdout",
     "output_type": "stream",
     "text": [
      "/data/data/rbfsolverglq10/NFE=20,p=3,dataset=IMAGENET128.npy  saved!\n",
      "tensor(0.0057, device='cuda:0')\n",
      "[[-6.          5.87878788  3.81818182  4.06060606  4.42424242  4.42424242\n",
      "   4.06060606  3.81818182  1.03030303  3.81818182  3.81818182  3.81818182\n",
      "   3.81818182  3.81818182  3.81818182  4.42424242  3.81818182  4.18181818\n",
      "   5.87878788 -6.        ]\n",
      " [-0.66666667 -0.06060606  5.15151515  5.87878788  5.15151515  5.63636364\n",
      "   5.63636364  4.90909091  5.27272727  5.27272727 -0.06060606  4.90909091\n",
      "  -0.06060606  6.          5.27272727  5.15151515 -0.06060606 -0.06060606\n",
      "  -0.06060606  0.        ]]\n",
      "[prepare_model] Model is ready.\n"
     ]
    },
    {
     "name": "stderr",
     "output_type": "stream",
     "text": [
      " 67%|██████▋   | 2/3 [00:37<00:18, 18.54s/it]INFO - main.py - 2025-03-29 20:45:35,385 - Using device: cuda\n",
      "INFO - main.py - 2025-03-29 20:45:35,385 - Using device: cuda\n",
      "INFO - main.py - 2025-03-29 20:45:35,385 - Using device: cuda\n",
      "INFO - main.py - 2025-03-29 20:45:35,385 - Using device: cuda\n"
     ]
    },
    {
     "name": "stdout",
     "output_type": "stream",
     "text": [
      "/data/data/rbfsolverglq10/NFE=20,p=3,dataset=IMAGENET128.npy  saved!\n",
      "tensor(0.1069, device='cuda:0')\n",
      "[[-6.          5.87878788  4.18181818  4.06060606  4.42424242  1.39393939\n",
      "   4.06060606  0.66666667  0.42424242  4.42424242  0.42424242  3.81818182\n",
      "   4.42424242  1.03030303  3.81818182  4.42424242  5.87878788  4.42424242\n",
      "   5.87878788 -6.        ]\n",
      " [-0.66666667 -0.06060606  4.66666667  5.87878788  5.15151515  5.63636364\n",
      "   5.63636364  4.90909091  5.27272727  5.27272727 -1.27272727  5.27272727\n",
      "  -0.54545455  6.          5.27272727  6.          3.57575758  6.\n",
      "   0.06060606  0.        ]]\n",
      "[prepare_model] Model is ready.\n"
     ]
    },
    {
     "name": "stderr",
     "output_type": "stream",
     "text": [
      "100%|██████████| 3/3 [00:55<00:00, 18.54s/it]"
     ]
    },
    {
     "name": "stdout",
     "output_type": "stream",
     "text": [
      "/data/data/rbfsolverglq10/NFE=20,p=3,dataset=IMAGENET128.npy  saved!\n",
      "tensor(0.0923, device='cuda:0')\n",
      "[[-6.          5.87878788  4.18181818  4.06060606  4.42424242  1.03030303\n",
      "   4.06060606  1.15151515  0.66666667  0.78787879  0.90909091  0.90909091\n",
      "   4.42424242  0.90909091  0.66666667  4.42424242  5.87878788  4.42424242\n",
      "   5.87878788 -6.        ]\n",
      " [-0.66666667 -0.06060606  4.66666667  5.87878788  5.15151515  4.78787879\n",
      "   5.63636364  4.90909091  5.27272727  5.27272727 -0.90909091  5.27272727\n",
      "  -0.66666667  6.          5.27272727  6.          4.78787879  6.\n",
      "   0.06060606  0.        ]]\n"
     ]
    },
    {
     "name": "stderr",
     "output_type": "stream",
     "text": [
      "\n"
     ]
    }
   ],
   "source": [
    "import sys\n",
    "import torch\n",
    "import numpy as np\n",
    "import random\n",
    "\n",
    "from main import parse_args_and_config, Diffusion\n",
    "from tqdm import tqdm\n",
    "import torch.nn.functional as F\n",
    "\n",
    "total_samples = 32\n",
    "save_file = f'/data/optimization/euler_NFE=120_N={total_samples}_imagenet128.pt'\n",
    "pairs = torch.load(save_file)\n",
    "noise = pairs[:, 0]\n",
    "target = pairs[:, 1]\n",
    "print(noise.shape, target.shape)\n",
    "\n",
    "seed = 42\n",
    "random.seed(seed)\n",
    "np.random.seed(seed)\n",
    "torch.manual_seed(seed)\n",
    "torch.cuda.manual_seed_all(seed)\n",
    "\n",
    "torch.backends.cudnn.deterministic = True\n",
    "torch.backends.benchmark = False\n",
    "\n",
    "for NFE in tqdm([5, 10, 20]):\n",
    "    ###############################################################################\n",
    "    # 1) Notebook에서 sys.argv를 직접 설정 (argparse 흉내)\n",
    "    ###############################################################################\n",
    "    sys.argv = [\n",
    "        \"main.py\",\n",
    "        \"--config\", \"imagenet128_guided.yml\",  # 사용하려는 config\n",
    "        \"--sample\",\n",
    "        \"--eta\", \"0\",\n",
    "        \"--dpm_solver_type\", \"data_prediction\",\n",
    "        \"--dpm_solver_order\", \"3\",\n",
    "        \"--skip_type\", \"logSNR\",\n",
    "        \"--scale\", \"0.0\",\n",
    "        \"--thresholding\",\n",
    "        \"--ni\",\n",
    "        \"--verbose\", 'critical',\n",
    "\n",
    "        \"--sample_type\", \"rbfsolverglq10\",\n",
    "        \"--timesteps\", str(NFE),\n",
    "        \"--log_scale_min\", \"-6.0\",\n",
    "        \"--log_scale_max\", \"6.0\",\n",
    "        \"--log_scale_num\", \"100\",\n",
    "        \"--scale_dir\", \"/data/data/rbfsolverglq10\",\n",
    "    ]\n",
    "\n",
    "    ###############################################################################\n",
    "    # 2) 인자/설정 로드\n",
    "    ###############################################################################\n",
    "    args, config = parse_args_and_config()\n",
    "\n",
    "    ###############################################################################\n",
    "    # 3) Diffusion 객체 생성 -> 모델 로딩\n",
    "    ###############################################################################\n",
    "    diffusion = Diffusion(args, config, rank=0)\n",
    "    diffusion.prepare_model()\n",
    "    diffusion.model.eval()\n",
    "\n",
    "    ###############################################################################\n",
    "    # 4) 배치(25장) 한 번에 샘플링 -> 5x5 그리드(여백 없이) 시각화\n",
    "    ###############################################################################\n",
    "    device = diffusion.device\n",
    "\n",
    "    n = 32\n",
    "    noise_batch = noise[:n].to(device)\n",
    "    target_batch = target[:n].to(device)\n",
    "    (pred, optimal_gammas), _ = diffusion.sample_image(noise_batch, diffusion.model, classifier=diffusion.classifier, target=target_batch)\n",
    "    print(F.mse_loss(pred, target_batch))\n",
    "    print(optimal_gammas)\n"
   ]
  },
  {
   "cell_type": "code",
   "execution_count": null,
   "metadata": {},
   "outputs": [],
   "source": []
  }
 ],
 "metadata": {
  "kernelspec": {
   "display_name": "ste",
   "language": "python",
   "name": "python3"
  },
  "language_info": {
   "codemirror_mode": {
    "name": "ipython",
    "version": 3
   },
   "file_extension": ".py",
   "mimetype": "text/x-python",
   "name": "python",
   "nbconvert_exporter": "python",
   "pygments_lexer": "ipython3",
   "version": "3.11.11"
  }
 },
 "nbformat": 4,
 "nbformat_minor": 2
}
