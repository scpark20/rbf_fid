{
 "cells": [
  {
   "cell_type": "code",
   "execution_count": 1,
   "metadata": {},
   "outputs": [],
   "source": [
    "import os\n",
    "os.chdir('../')"
   ]
  },
  {
   "cell_type": "markdown",
   "metadata": {},
   "source": [
    "### from \"sample noise data pair by Euler and save pt.ipynb\""
   ]
  },
  {
   "cell_type": "code",
   "execution_count": 2,
   "metadata": {},
   "outputs": [
    {
     "name": "stdout",
     "output_type": "stream",
     "text": [
      "torch.Size([256, 3, 64, 64]) torch.Size([256, 3, 64, 64])\n"
     ]
    }
   ],
   "source": [
    "import torch\n",
    "import torch.nn.functional as F\n",
    "\n",
    "save_file = 'optimization/pair/euler_NFE=120_N=256.pt'\n",
    "pairs = torch.load(save_file)\n",
    "noise = pairs[:, 0]\n",
    "target = pairs[:, 1]\n",
    "print(noise.shape, target.shape)"
   ]
  },
  {
   "cell_type": "code",
   "execution_count": 12,
   "metadata": {},
   "outputs": [
    {
     "name": "stderr",
     "output_type": "stream",
     "text": [
      "INFO - main.py - 2025-03-28 16:08:11,317 - Using device: cuda\n",
      "INFO - main.py - 2025-03-28 16:08:11,317 - Using device: cuda\n",
      "INFO - main.py - 2025-03-28 16:08:11,317 - Using device: cuda\n",
      "INFO - main.py - 2025-03-28 16:08:11,317 - Using device: cuda\n"
     ]
    },
    {
     "name": "stdout",
     "output_type": "stream",
     "text": [
      "[prepare_model] Loading ckpt from /data/checkpoints/dpm-solver/imagenet64_uncond_100M_1500K.pt ...\n",
      "[prepare_model] Checkpoint loaded.\n",
      "[prepare_model] Model is ready.\n"
     ]
    }
   ],
   "source": [
    "import sys\n",
    "import torch\n",
    "import numpy as np\n",
    "import matplotlib.pyplot as plt\n",
    "import torchvision.utils as vutils\n",
    "import random\n",
    "\n",
    "from main import parse_args_and_config, Diffusion\n",
    "from datasets import inverse_data_transform\n",
    "\n",
    "seed = 42\n",
    "random.seed(seed)\n",
    "np.random.seed(seed)\n",
    "torch.manual_seed(seed)\n",
    "torch.cuda.manual_seed_all(seed)\n",
    "\n",
    "torch.backends.cudnn.deterministic = True\n",
    "torch.backends.benchmark = False\n",
    "\n",
    "###############################################################################\n",
    "# 1) Notebook에서 sys.argv를 직접 설정 (argparse 흉내)\n",
    "###############################################################################\n",
    "sys.argv = [\n",
    "    \"main.py\",\n",
    "    \"--config\", \"imagenet64.yml\",  # 사용하려는 config\n",
    "    \"--sample\",\n",
    "    \"--sample_type\", \"rbfsolverglq10sepbeta\",\n",
    "    \"--dpm_solver_type\", \"data_prediction\",\n",
    "    \"--dpm_solver_order\", \"3\",\n",
    "    \"--timesteps\", \"10\",\n",
    "    \"--skip_type\", \"logSNR\",\n",
    "    \"--log_scale_min\", \"-6.0\",\n",
    "    \"--log_scale_max\", \"6.0\",\n",
    "    \"--scale_dir\", \"/data/data/rbfsolverglq10sepbeta\",\n",
    "    \"--ni\"\n",
    "]\n",
    "\n",
    "###############################################################################\n",
    "# 2) 인자/설정 로드\n",
    "###############################################################################\n",
    "args, config = parse_args_and_config()\n",
    "\n",
    "###############################################################################\n",
    "# 3) Diffusion 객체 생성 -> 모델 로딩\n",
    "###############################################################################\n",
    "diffusion = Diffusion(args, config, rank=0)\n",
    "diffusion.prepare_model()\n",
    "diffusion.model.eval()\n",
    "\n",
    "###############################################################################\n",
    "# 4) 배치(25장) 한 번에 샘플링 -> 5x5 그리드(여백 없이) 시각화\n",
    "###############################################################################\n",
    "device = diffusion.device\n"
   ]
  },
  {
   "cell_type": "code",
   "execution_count": 13,
   "metadata": {},
   "outputs": [
    {
     "name": "stdout",
     "output_type": "stream",
     "text": [
      "mkdir: cannot create directory ‘/data/data/rbfsolverglq10sepbeta’: File exists\n"
     ]
    }
   ],
   "source": [
    "!mkdir /data/data/rbfsolverglq10sepbeta"
   ]
  },
  {
   "cell_type": "code",
   "execution_count": 14,
   "metadata": {},
   "outputs": [
    {
     "name": "stderr",
     "output_type": "stream",
     "text": [
      "  0%|          | 0/10 [00:00<?, ?it/s]"
     ]
    },
    {
     "name": "stderr",
     "output_type": "stream",
     "text": [
      " 90%|█████████ | 9/10 [03:41<00:24, 24.66s/it]"
     ]
    },
    {
     "name": "stdout",
     "output_type": "stream",
     "text": [
      "/data/data/rbfsolverglq10sepbeta/NFE=10,p=3,exp_num=0.npy  saved!\n",
      "loss : tensor(0.0070, device='cuda:0')\n",
      "tensor([[[ 1.3555,  0.0000,  0.0000,  0.0000],\n",
      "         [ 0.1974, -1.0714,  0.0000,  0.0000],\n",
      "         [ 2.4067,  2.1275,  2.3255,  0.0000],\n",
      "         [ 4.1459, -1.8957,  4.3916,  0.0000],\n",
      "         [ 2.2812,  1.9737,  2.2069,  0.0000],\n",
      "         [ 3.8478, -2.2037,  4.1129,  0.0000],\n",
      "         [ 0.8271, -4.2556,  0.7200,  0.0000],\n",
      "         [ 0.5241, -0.0388,  0.4380,  0.0000],\n",
      "         [ 5.2355,  5.4975,  0.0000,  0.0000],\n",
      "         [ 3.0499,  0.0000,  0.0000,  0.0000]],\n",
      "\n",
      "        [[ 5.4576,  4.5754,  0.0000,  0.0000],\n",
      "         [ 1.9296,  3.1685,  1.4953,  0.0000],\n",
      "         [ 0.8015,  3.8585,  0.8773, -1.4275],\n",
      "         [ 1.3671,  3.8271,  0.8831, -0.9291],\n",
      "         [ 0.5469,  1.7865,  0.8528, -4.5743],\n",
      "         [ 1.1488, -2.4216,  0.8789, -3.0166],\n",
      "         [ 0.9408, -3.0620,  0.6616, -4.1923],\n",
      "         [ 1.1306, -2.7697,  1.1010, -5.2607],\n",
      "         [ 5.9400, -3.9184,  5.3974,  0.0000],\n",
      "         [ 0.0000,  0.0000,  0.0000,  0.0000]]])\n"
     ]
    },
    {
     "name": "stderr",
     "output_type": "stream",
     "text": [
      "\n"
     ]
    }
   ],
   "source": [
    "n = 32\n",
    "i = 0\n",
    "while True:    \n",
    "    start = i*n\n",
    "    end = (i+1)*n\n",
    "    if end > len(noise):\n",
    "        break\n",
    "    noise_batch = noise[start:end].to(device)\n",
    "    target_batch = target[start:end].to(device)\n",
    "    (pred, optimal_gammas), _ = diffusion.sample_image(noise_batch, diffusion.model, target=target_batch, exp_num=i)\n",
    "    loss = F.mse_loss(pred, target_batch)\n",
    "    print('loss :', loss)\n",
    "    print(optimal_gammas)\n",
    "    i += 1\n",
    "    break\n"
   ]
  },
  {
   "cell_type": "markdown",
   "metadata": {},
   "source": [
    "### Batch"
   ]
  },
  {
   "cell_type": "code",
   "execution_count": 2,
   "metadata": {},
   "outputs": [
    {
     "name": "stdout",
     "output_type": "stream",
     "text": [
      "torch.Size([256, 3, 64, 64]) torch.Size([256, 3, 64, 64])\n"
     ]
    },
    {
     "name": "stderr",
     "output_type": "stream",
     "text": [
      "  0%|          | 0/4 [00:00<?, ?it/s]"
     ]
    },
    {
     "name": "stdout",
     "output_type": "stream",
     "text": [
      "[prepare_model] Loading ckpt from /data/checkpoints/dpm-solver/imagenet64_uncond_100M_1500K.pt ...\n",
      "[prepare_model] Checkpoint loaded.\n",
      "[prepare_model] Model is ready.\n"
     ]
    },
    {
     "name": "stderr",
     "output_type": "stream",
     "text": [
      " 25%|██▌       | 1/4 [00:49<02:28, 49.67s/it]"
     ]
    },
    {
     "name": "stdout",
     "output_type": "stream",
     "text": [
      "/data/data/rbfsolverglq10sepbeta/NFE=5,p=3,exp_num=0.npy  saved!\n",
      "tensor(0.0296, device='cuda:0')\n"
     ]
    },
    {
     "name": "stderr",
     "output_type": "stream",
     "text": [
      " 25%|██▌       | 1/4 [01:33<04:41, 93.81s/it]\n"
     ]
    },
    {
     "ename": "_LinAlgError",
     "evalue": "torch.linalg.solve: The solver failed because the input matrix is singular.",
     "output_type": "error",
     "traceback": [
      "\u001b[31m---------------------------------------------------------------------------\u001b[39m",
      "\u001b[31m_LinAlgError\u001b[39m                              Traceback (most recent call last)",
      "\u001b[36mCell\u001b[39m\u001b[36m \u001b[39m\u001b[32mIn[2]\u001b[39m\u001b[32m, line 48\u001b[39m\n\u001b[32m     46\u001b[39m noise_batch = noise[:n].to(device)\n\u001b[32m     47\u001b[39m target_batch = target[:n].to(device)\n\u001b[32m---> \u001b[39m\u001b[32m48\u001b[39m (pred, _), _ = \u001b[43mdiffusion\u001b[49m\u001b[43m.\u001b[49m\u001b[43msample_image\u001b[49m\u001b[43m(\u001b[49m\u001b[43mnoise_batch\u001b[49m\u001b[43m,\u001b[49m\u001b[43m \u001b[49m\u001b[43mmodel\u001b[49m\u001b[43m,\u001b[49m\u001b[43m \u001b[49m\u001b[43mtarget\u001b[49m\u001b[43m=\u001b[49m\u001b[43mtarget_batch\u001b[49m\u001b[43m)\u001b[49m\n\u001b[32m     49\u001b[39m \u001b[38;5;28mprint\u001b[39m(F.mse_loss(pred, target_batch))\n",
      "\u001b[36mFile \u001b[39m\u001b[32m~/scpark/rbf_fid/runners/diffusion.py:1072\u001b[39m, in \u001b[36mDiffusion.sample_image\u001b[39m\u001b[34m(self, x, model, last, classifier, base_samples, target, exp_num)\u001b[39m\n\u001b[32m   1063\u001b[39m solver = RBFSolverGLQ10Sepbeta(\n\u001b[32m   1064\u001b[39m     model_fn_continuous,\n\u001b[32m   1065\u001b[39m     noise_schedule,\n\u001b[32m   (...)\u001b[39m\u001b[32m   1069\u001b[39m     exp_num=\u001b[38;5;28mself\u001b[39m.args.exp_num\n\u001b[32m   1070\u001b[39m )\n\u001b[32m   1071\u001b[39m \u001b[38;5;28;01mif\u001b[39;00m target \u001b[38;5;129;01mis\u001b[39;00m \u001b[38;5;129;01mnot\u001b[39;00m \u001b[38;5;28;01mNone\u001b[39;00m:\n\u001b[32m-> \u001b[39m\u001b[32m1072\u001b[39m     x = \u001b[43msolver\u001b[49m\u001b[43m.\u001b[49m\u001b[43msample_by_target_matching\u001b[49m\u001b[43m(\u001b[49m\n\u001b[32m   1073\u001b[39m \u001b[43m        \u001b[49m\u001b[43mx\u001b[49m\u001b[43m,\u001b[49m\n\u001b[32m   1074\u001b[39m \u001b[43m        \u001b[49m\u001b[43mtarget\u001b[49m\u001b[43m,\u001b[49m\n\u001b[32m   1075\u001b[39m \u001b[43m        \u001b[49m\u001b[43msteps\u001b[49m\u001b[43m=\u001b[49m\u001b[43m(\u001b[49m\u001b[38;5;28;43mself\u001b[39;49m\u001b[43m.\u001b[49m\u001b[43margs\u001b[49m\u001b[43m.\u001b[49m\u001b[43mtimesteps\u001b[49m\u001b[43m \u001b[49m\u001b[43m-\u001b[49m\u001b[43m \u001b[49m\u001b[32;43m1\u001b[39;49m\u001b[43m \u001b[49m\u001b[38;5;28;43;01mif\u001b[39;49;00m\u001b[43m \u001b[49m\u001b[38;5;28;43mself\u001b[39;49m\u001b[43m.\u001b[49m\u001b[43margs\u001b[49m\u001b[43m.\u001b[49m\u001b[43mdenoise\u001b[49m\u001b[43m \u001b[49m\u001b[38;5;28;43;01melse\u001b[39;49;00m\u001b[43m \u001b[49m\u001b[38;5;28;43mself\u001b[39;49m\u001b[43m.\u001b[49m\u001b[43margs\u001b[49m\u001b[43m.\u001b[49m\u001b[43mtimesteps\u001b[49m\u001b[43m)\u001b[49m\u001b[43m,\u001b[49m\n\u001b[32m   1076\u001b[39m \u001b[43m        \u001b[49m\u001b[43morder\u001b[49m\u001b[43m=\u001b[49m\u001b[38;5;28;43mself\u001b[39;49m\u001b[43m.\u001b[49m\u001b[43margs\u001b[49m\u001b[43m.\u001b[49m\u001b[43mdpm_solver_order\u001b[49m\u001b[43m,\u001b[49m\n\u001b[32m   1077\u001b[39m \u001b[43m        \u001b[49m\u001b[43mskip_type\u001b[49m\u001b[43m=\u001b[49m\u001b[38;5;28;43mself\u001b[39;49m\u001b[43m.\u001b[49m\u001b[43margs\u001b[49m\u001b[43m.\u001b[49m\u001b[43mskip_type\u001b[49m\u001b[43m,\u001b[49m\n\u001b[32m   1078\u001b[39m \u001b[43m        \u001b[49m\u001b[43mlog_scale_min\u001b[49m\u001b[43m=\u001b[49m\u001b[38;5;28;43mself\u001b[39;49m\u001b[43m.\u001b[49m\u001b[43margs\u001b[49m\u001b[43m.\u001b[49m\u001b[43mlog_scale_min\u001b[49m\u001b[43m,\u001b[49m\n\u001b[32m   1079\u001b[39m \u001b[43m        \u001b[49m\u001b[43mlog_scale_max\u001b[49m\u001b[43m=\u001b[49m\u001b[38;5;28;43mself\u001b[39;49m\u001b[43m.\u001b[49m\u001b[43margs\u001b[49m\u001b[43m.\u001b[49m\u001b[43mlog_scale_max\u001b[49m\u001b[43m,\u001b[49m\n\u001b[32m   1080\u001b[39m \u001b[43m        \u001b[49m\u001b[43mexp_num\u001b[49m\u001b[43m=\u001b[49m\u001b[43mexp_num\u001b[49m\u001b[43m,\u001b[49m\n\u001b[32m   1081\u001b[39m \u001b[43m    \u001b[49m\u001b[43m)\u001b[49m\n\u001b[32m   1082\u001b[39m \u001b[38;5;28;01melse\u001b[39;00m:    \n\u001b[32m   1083\u001b[39m     x = solver.sample(\n\u001b[32m   1084\u001b[39m         x,\n\u001b[32m   1085\u001b[39m         steps=(\u001b[38;5;28mself\u001b[39m.args.timesteps - \u001b[32m1\u001b[39m \u001b[38;5;28;01mif\u001b[39;00m \u001b[38;5;28mself\u001b[39m.args.denoise \u001b[38;5;28;01melse\u001b[39;00m \u001b[38;5;28mself\u001b[39m.args.timesteps),\n\u001b[32m   (...)\u001b[39m\u001b[32m   1088\u001b[39m         log_scale=\u001b[38;5;28mself\u001b[39m.args.log_scale,\n\u001b[32m   1089\u001b[39m     )                \n",
      "\u001b[36mFile \u001b[39m\u001b[32m~/scpark/rbf_fid/dpm_solver/rbf_solver_glq10_sepbeta.py:319\u001b[39m, in \u001b[36mRBFSolverGLQ10Sepbeta.sample_by_target_matching\u001b[39m\u001b[34m(self, x, target, steps, skip_type, order, log_scale_min, log_scale_max, optim_lr, optim_steps, exp_num)\u001b[39m\n\u001b[32m    317\u001b[39m \u001b[38;5;28;01mfor\u001b[39;00m optim_step \u001b[38;5;129;01min\u001b[39;00m \u001b[38;5;28mrange\u001b[39m(optim_steps):\n\u001b[32m    318\u001b[39m     optimizer_c.zero_grad()\n\u001b[32m--> \u001b[39m\u001b[32m319\u001b[39m     loss_c = \u001b[38;5;28;43mself\u001b[39;49m\u001b[43m.\u001b[49m\u001b[43mget_loss_by_target_matching\u001b[49m\u001b[43m(\u001b[49m\u001b[43mi\u001b[49m\u001b[43m,\u001b[49m\u001b[43m \u001b[49m\u001b[43msteps\u001b[49m\u001b[43m,\u001b[49m\u001b[43m \u001b[49m\u001b[43mtarget\u001b[49m\u001b[43m,\u001b[49m\u001b[43m \u001b[49m\u001b[43mhist\u001b[49m\u001b[43m,\u001b[49m\u001b[43m \u001b[49m\u001b[43mlog_scale_c\u001b[49m\u001b[43m,\u001b[49m\u001b[43m \u001b[49m\u001b[43mlambdas\u001b[49m\u001b[43m,\u001b[49m\u001b[43m \u001b[49m\u001b[43mp\u001b[49m\u001b[43m,\u001b[49m\u001b[43m \u001b[49m\u001b[43mcorrector\u001b[49m\u001b[43m=\u001b[49m\u001b[38;5;28;43;01mTrue\u001b[39;49;00m\u001b[43m)\u001b[49m\n\u001b[32m    320\u001b[39m     loss_c.backward(retain_graph=\u001b[38;5;28;01mTrue\u001b[39;00m)\n\u001b[32m    321\u001b[39m     \u001b[38;5;66;03m# if torch.isnan(log_scale_c.grad).any():\u001b[39;00m\n\u001b[32m    322\u001b[39m     \u001b[38;5;66;03m#     #print(f\"[Corrector][Step {i}][Optim {optim_step}] ⚠️ Gradient contains NaN! Skipping optimizer step.\")\u001b[39;00m\n\u001b[32m    323\u001b[39m     \u001b[38;5;66;03m#     continue\u001b[39;00m\n\u001b[32m    324\u001b[39m     \u001b[38;5;66;03m#torch.nn.utils.clip_grad_norm_([log_scale_p], max_norm=1.0)\u001b[39;00m\n",
      "\u001b[36mFile \u001b[39m\u001b[32m~/scpark/rbf_fid/dpm_solver/rbf_solver_glq10_sepbeta.py:239\u001b[39m, in \u001b[36mRBFSolverGLQ10Sepbeta.get_loss_by_target_matching\u001b[39m\u001b[34m(self, i, steps, target, hist, log_scale, lambdas, p, corrector)\u001b[39m\n\u001b[32m    237\u001b[39m beta = steps / (torch.exp(log_scale) * \u001b[38;5;28mabs\u001b[39m(lambdas[-\u001b[32m1\u001b[39m] - lambdas[\u001b[32m0\u001b[39m]))\n\u001b[32m    238\u001b[39m lambda_array = torch.flip(lambdas[i-p+\u001b[32m1\u001b[39m:i+(\u001b[32m2\u001b[39m \u001b[38;5;28;01mif\u001b[39;00m corrector \u001b[38;5;28;01melse\u001b[39;00m \u001b[32m1\u001b[39m)], dims=[\u001b[32m0\u001b[39m])\n\u001b[32m--> \u001b[39m\u001b[32m239\u001b[39m coeffs = \u001b[38;5;28;43mself\u001b[39;49m\u001b[43m.\u001b[49m\u001b[43mget_coefficients\u001b[49m\u001b[43m(\u001b[49m\u001b[43mlambdas\u001b[49m\u001b[43m[\u001b[49m\u001b[43mi\u001b[49m\u001b[43m]\u001b[49m\u001b[43m,\u001b[49m\u001b[43m \u001b[49m\u001b[43mlambdas\u001b[49m\u001b[43m[\u001b[49m\u001b[43mi\u001b[49m\u001b[43m+\u001b[49m\u001b[32;43m1\u001b[39;49m\u001b[43m]\u001b[49m\u001b[43m,\u001b[49m\u001b[43m \u001b[49m\u001b[43mlambda_array\u001b[49m\u001b[43m,\u001b[49m\u001b[43m \u001b[49m\u001b[43mbeta\u001b[49m\u001b[43m)\u001b[49m\n\u001b[32m    241\u001b[39m datas = hist[i-p+\u001b[32m1\u001b[39m:i+(\u001b[32m2\u001b[39m \u001b[38;5;28;01mif\u001b[39;00m corrector \u001b[38;5;28;01melse\u001b[39;00m \u001b[32m1\u001b[39m)][::-\u001b[32m1\u001b[39m]\n\u001b[32m    242\u001b[39m data_sum = \u001b[38;5;28msum\u001b[39m([coeff * data \u001b[38;5;28;01mfor\u001b[39;00m coeff, data \u001b[38;5;129;01min\u001b[39;00m \u001b[38;5;28mzip\u001b[39m(coeffs, datas)])\n",
      "\u001b[36mFile \u001b[39m\u001b[32m~/scpark/rbf_fid/dpm_solver/rbf_solver_glq10_sepbeta.py:201\u001b[39m, in \u001b[36mRBFSolverGLQ10Sepbeta.get_coefficients\u001b[39m\u001b[34m(self, lambda_s, lambda_t, lambdas, beta)\u001b[39m\n\u001b[32m    199\u001b[39m kernel_aug[:p, :p] = kernel\n\u001b[32m    200\u001b[39m \u001b[38;5;66;03m# (p+1,)\u001b[39;00m\n\u001b[32m--> \u001b[39m\u001b[32m201\u001b[39m coefficients = \u001b[43mtorch\u001b[49m\u001b[43m.\u001b[49m\u001b[43mlinalg\u001b[49m\u001b[43m.\u001b[49m\u001b[43msolve\u001b[49m\u001b[43m(\u001b[49m\u001b[43mkernel_aug\u001b[49m\u001b[43m,\u001b[49m\u001b[43m \u001b[49m\u001b[43mintegral_aug\u001b[49m\u001b[43m)\u001b[49m\n\u001b[32m    202\u001b[39m \u001b[38;5;66;03m# (p,)\u001b[39;00m\n\u001b[32m    203\u001b[39m coefficients = coefficients[:p]\n",
      "\u001b[31m_LinAlgError\u001b[39m: torch.linalg.solve: The solver failed because the input matrix is singular."
     ]
    }
   ],
   "source": [
    "import sys\n",
    "import torch\n",
    "import numpy as np\n",
    "from main import parse_args_and_config, Diffusion\n",
    "from tqdm import tqdm\n",
    "\n",
    "import torch\n",
    "import torch.nn.functional as F\n",
    "\n",
    "save_file = 'optimization/pair/euler_NFE=120_N=256.pt'\n",
    "pairs = torch.load(save_file)\n",
    "noise = pairs[:, 0]\n",
    "target = pairs[:, 1]\n",
    "print(noise.shape, target.shape)\n",
    "\n",
    "model = None\n",
    "for NFE in tqdm([5, 10, 15, 25]):\n",
    "    sys.argv = [\n",
    "        \"main.py\",\n",
    "        \"--config\", \"imagenet64.yml\",  # 사용하려는 config\n",
    "        \"--sample\",\n",
    "        \"--sample_type\", \"rbfsolverglq10sepbeta\",\n",
    "        \"--dpm_solver_type\", \"data_prediction\",\n",
    "        \"--dpm_solver_order\", \"3\",\n",
    "        \"--timesteps\", str(NFE),\n",
    "        \"--skip_type\", \"logSNR\",\n",
    "        \"--log_scale_min\", \"-6.0\",\n",
    "        \"--log_scale_max\", \"6.0\",\n",
    "        \"--log_scale_num\", \"100\",\n",
    "        \"--scale_dir\", \"/data/data/rbfsolverglq10sepbeta\",\n",
    "        \"--exp_num\", \"0\",\n",
    "        \"--verbose\", \"critical\",\n",
    "        \"--ni\",\n",
    "    ]\n",
    "\n",
    "    args, config = parse_args_and_config()\n",
    "    diffusion = Diffusion(args, config, rank=0)\n",
    "\n",
    "    if model is None:\n",
    "        diffusion.prepare_model()\n",
    "        diffusion.model.eval()\n",
    "        model = diffusion.model\n",
    "    device = diffusion.device\n",
    "\n",
    "    n = 16\n",
    "    noise_batch = noise[:n].to(device)\n",
    "    target_batch = target[:n].to(device)\n",
    "    (pred, _), _ = diffusion.sample_image(noise_batch, model, target=target_batch)\n",
    "    print(F.mse_loss(pred, target_batch))\n"
   ]
  },
  {
   "cell_type": "code",
   "execution_count": 9,
   "metadata": {},
   "outputs": [
    {
     "name": "stdout",
     "output_type": "stream",
     "text": [
      "done\n"
     ]
    }
   ],
   "source": [
    "print('done')"
   ]
  },
  {
   "cell_type": "code",
   "execution_count": null,
   "metadata": {},
   "outputs": [],
   "source": []
  }
 ],
 "metadata": {
  "kernelspec": {
   "display_name": "rbf",
   "language": "python",
   "name": "python3"
  },
  "language_info": {
   "codemirror_mode": {
    "name": "ipython",
    "version": 3
   },
   "file_extension": ".py",
   "mimetype": "text/x-python",
   "name": "python",
   "nbconvert_exporter": "python",
   "pygments_lexer": "ipython3",
   "version": "3.11.11"
  }
 },
 "nbformat": 4,
 "nbformat_minor": 2
}
