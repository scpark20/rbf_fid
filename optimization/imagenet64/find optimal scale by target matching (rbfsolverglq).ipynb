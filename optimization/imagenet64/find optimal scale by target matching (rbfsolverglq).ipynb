{
 "cells": [
  {
   "cell_type": "code",
   "execution_count": 1,
   "metadata": {},
   "outputs": [],
   "source": [
    "import os\n",
    "os.chdir('../')"
   ]
  },
  {
   "cell_type": "markdown",
   "metadata": {},
   "source": [
    "### from \"sample noise data pair by Euler and save pt.ipynb\""
   ]
  },
  {
   "cell_type": "code",
   "execution_count": 2,
   "metadata": {},
   "outputs": [
    {
     "name": "stdout",
     "output_type": "stream",
     "text": [
      "torch.Size([256, 3, 64, 64]) torch.Size([256, 3, 64, 64])\n"
     ]
    }
   ],
   "source": [
    "import torch\n",
    "import torch.nn.functional as F\n",
    "\n",
    "save_file = 'optimization/pair/euler_NFE=120_N=256.pt'\n",
    "pairs = torch.load(save_file)\n",
    "noise = pairs[:, 0]\n",
    "target = pairs[:, 1]\n",
    "print(noise.shape, target.shape)"
   ]
  },
  {
   "cell_type": "code",
   "execution_count": 3,
   "metadata": {},
   "outputs": [
    {
     "name": "stderr",
     "output_type": "stream",
     "text": [
      "INFO - main.py - 2025-03-28 06:07:17,252 - Using device: cuda\n"
     ]
    },
    {
     "name": "stdout",
     "output_type": "stream",
     "text": [
      "[prepare_model] Loading ckpt from /data/checkpoints/dpm-solver/imagenet64_uncond_100M_1500K.pt ...\n",
      "[prepare_model] Checkpoint loaded.\n",
      "[prepare_model] Model is ready.\n"
     ]
    }
   ],
   "source": [
    "import sys\n",
    "import torch\n",
    "import numpy as np\n",
    "import matplotlib.pyplot as plt\n",
    "import torchvision.utils as vutils\n",
    "import random\n",
    "\n",
    "from main import parse_args_and_config, Diffusion\n",
    "from datasets import inverse_data_transform\n",
    "\n",
    "seed = 42\n",
    "random.seed(seed)\n",
    "np.random.seed(seed)\n",
    "torch.manual_seed(seed)\n",
    "torch.cuda.manual_seed_all(seed)\n",
    "\n",
    "torch.backends.cudnn.deterministic = True\n",
    "torch.backends.benchmark = False\n",
    "\n",
    "###############################################################################\n",
    "# 1) Notebook에서 sys.argv를 직접 설정 (argparse 흉내)\n",
    "###############################################################################\n",
    "sys.argv = [\n",
    "    \"main.py\",\n",
    "    \"--config\", \"imagenet64.yml\",  # 사용하려는 config\n",
    "    \"--sample\",\n",
    "    \"--sample_type\", \"rbfsolverglq\",\n",
    "    \"--dpm_solver_type\", \"data_prediction\",\n",
    "    \"--dpm_solver_order\", \"3\",\n",
    "    \"--timesteps\", \"5\",\n",
    "    \"--skip_type\", \"logSNR\",\n",
    "    \"--log_scale_min\", \"-6.0\",\n",
    "    \"--log_scale_max\", \"6.0\",\n",
    "    \"--log_scale_num\", \"100\",\n",
    "    \"--scale_dir\", \"/data/data/rbfsolverglq\",\n",
    "    \"--ni\"\n",
    "]\n",
    "\n",
    "###############################################################################\n",
    "# 2) 인자/설정 로드\n",
    "###############################################################################\n",
    "args, config = parse_args_and_config()\n",
    "\n",
    "###############################################################################\n",
    "# 3) Diffusion 객체 생성 -> 모델 로딩\n",
    "###############################################################################\n",
    "diffusion = Diffusion(args, config, rank=0)\n",
    "diffusion.prepare_model()\n",
    "diffusion.model.eval()\n",
    "\n",
    "###############################################################################\n",
    "# 4) 배치(25장) 한 번에 샘플링 -> 5x5 그리드(여백 없이) 시각화\n",
    "###############################################################################\n",
    "device = diffusion.device\n"
   ]
  },
  {
   "cell_type": "code",
   "execution_count": 3,
   "metadata": {},
   "outputs": [],
   "source": [
    "!mkdir /data/data/rbfsolverglq"
   ]
  },
  {
   "cell_type": "code",
   "execution_count": 7,
   "metadata": {},
   "outputs": [
    {
     "name": "stdout",
     "output_type": "stream",
     "text": [
      "torch.Size([256, 3, 64, 64])\n",
      "/data/data/rbfsolverglq/NFE=5,p=3,exp_num=0.npy  saved!\n",
      "loss : tensor(0.0361, device='cuda:0')\n",
      "[[-6.          0.06060606  0.54545455  0.18181818 -6.        ]\n",
      " [ 5.51515152 -0.18181818 -0.06060606 -0.06060606  0.        ]]\n"
     ]
    }
   ],
   "source": [
    "n = 256\n",
    "i = 0\n",
    "while True:    \n",
    "    start = i*n\n",
    "    end = (i+1)*n\n",
    "    if end > len(noise):\n",
    "        break\n",
    "    noise_batch = noise[start:end].to(device)\n",
    "    target_batch = target[start:end].to(device)\n",
    "    print(noise_batch.shape)\n",
    "    (pred, optimal_gammas), _ = diffusion.sample_image(noise_batch, diffusion.model, target=target_batch, exp_num=i)\n",
    "    loss = F.mse_loss(pred, target_batch)\n",
    "    print('loss :', loss)\n",
    "    print(optimal_gammas)\n",
    "    i += 1\n"
   ]
  },
  {
   "cell_type": "markdown",
   "metadata": {},
   "source": [
    "### Batch"
   ]
  },
  {
   "cell_type": "code",
   "execution_count": 4,
   "metadata": {},
   "outputs": [
    {
     "name": "stdout",
     "output_type": "stream",
     "text": [
      "torch.Size([256, 3, 64, 64]) torch.Size([256, 3, 64, 64])\n"
     ]
    },
    {
     "name": "stderr",
     "output_type": "stream",
     "text": [
      "  0%|          | 0/4 [00:00<?, ?it/s]"
     ]
    },
    {
     "name": "stdout",
     "output_type": "stream",
     "text": [
      "[prepare_model] Loading ckpt from /data/checkpoints/dpm-solver/imagenet64_uncond_100M_1500K.pt ...\n",
      "[prepare_model] Checkpoint loaded.\n",
      "[prepare_model] Model is ready.\n"
     ]
    },
    {
     "name": "stderr",
     "output_type": "stream",
     "text": [
      " 25%|██▌       | 1/4 [00:03<00:11,  3.79s/it]"
     ]
    },
    {
     "name": "stdout",
     "output_type": "stream",
     "text": [
      "/data/data/rbfsolverglq/NFE=5,p=3,exp_num=0.npy  saved!\n",
      "tensor(0.0329, device='cuda:0')\n"
     ]
    },
    {
     "name": "stderr",
     "output_type": "stream",
     "text": [
      " 50%|█████     | 2/4 [00:09<00:10,  5.02s/it]"
     ]
    },
    {
     "name": "stdout",
     "output_type": "stream",
     "text": [
      "/data/data/rbfsolverglq/NFE=10,p=3,exp_num=0.npy  saved!\n",
      "tensor(0.0056, device='cuda:0')\n"
     ]
    },
    {
     "name": "stderr",
     "output_type": "stream",
     "text": [
      " 75%|███████▌  | 3/4 [00:18<00:06,  6.75s/it]"
     ]
    },
    {
     "name": "stdout",
     "output_type": "stream",
     "text": [
      "/data/data/rbfsolverglq/NFE=15,p=3,exp_num=0.npy  saved!\n",
      "tensor(0.0034, device='cuda:0')\n"
     ]
    },
    {
     "name": "stderr",
     "output_type": "stream",
     "text": [
      "100%|██████████| 4/4 [00:33<00:00,  8.30s/it]"
     ]
    },
    {
     "name": "stdout",
     "output_type": "stream",
     "text": [
      "/data/data/rbfsolverglq/NFE=25,p=3,exp_num=0.npy  saved!\n",
      "tensor(0.0044, device='cuda:0')\n"
     ]
    },
    {
     "name": "stderr",
     "output_type": "stream",
     "text": [
      "\n"
     ]
    }
   ],
   "source": [
    "import sys\n",
    "import torch\n",
    "import numpy as np\n",
    "from main import parse_args_and_config, Diffusion\n",
    "from tqdm import tqdm\n",
    "\n",
    "import torch\n",
    "import torch.nn.functional as F\n",
    "\n",
    "save_file = 'optimization/pair/euler_NFE=120_N=256.pt'\n",
    "pairs = torch.load(save_file)\n",
    "noise = pairs[:, 0]\n",
    "target = pairs[:, 1]\n",
    "print(noise.shape, target.shape)\n",
    "\n",
    "model = None\n",
    "for NFE in tqdm([5, 10, 15, 25]):\n",
    "    sys.argv = [\n",
    "        \"main.py\",\n",
    "        \"--config\", \"imagenet64.yml\",  # 사용하려는 config\n",
    "        \"--sample\",\n",
    "        \"--sample_type\", \"rbfsolverglq\",\n",
    "        \"--dpm_solver_type\", \"data_prediction\",\n",
    "        \"--dpm_solver_order\", \"3\",\n",
    "        \"--timesteps\", str(NFE),\n",
    "        \"--skip_type\", \"logSNR\",\n",
    "        \"--log_scale_min\", \"-6.0\",\n",
    "        \"--log_scale_max\", \"6.0\",\n",
    "        \"--log_scale_num\", \"100\",\n",
    "        \"--scale_dir\", \"/data/data/rbfsolverglq\",\n",
    "        \"--exp_num\", \"0\",\n",
    "        \"--verbose\", \"critical\",\n",
    "        \"--ni\",\n",
    "    ]\n",
    "\n",
    "    args, config = parse_args_and_config()\n",
    "    diffusion = Diffusion(args, config, rank=0)\n",
    "\n",
    "    if model is None:\n",
    "        diffusion.prepare_model()\n",
    "        diffusion.model.eval()\n",
    "        model = diffusion.model\n",
    "    device = diffusion.device\n",
    "\n",
    "    n = 256\n",
    "    noise_batch = noise[:n].to(device)\n",
    "    target_batch = target[:n].to(device)\n",
    "    (pred, _), _ = diffusion.sample_image(noise_batch, model, target=target_batch)\n",
    "    print(F.mse_loss(pred, target_batch))\n"
   ]
  },
  {
   "cell_type": "code",
   "execution_count": 9,
   "metadata": {},
   "outputs": [
    {
     "name": "stdout",
     "output_type": "stream",
     "text": [
      "done\n"
     ]
    }
   ],
   "source": [
    "print('done')"
   ]
  },
  {
   "cell_type": "code",
   "execution_count": null,
   "metadata": {},
   "outputs": [],
   "source": []
  }
 ],
 "metadata": {
  "kernelspec": {
   "display_name": "rbf",
   "language": "python",
   "name": "python3"
  },
  "language_info": {
   "codemirror_mode": {
    "name": "ipython",
    "version": 3
   },
   "file_extension": ".py",
   "mimetype": "text/x-python",
   "name": "python",
   "nbconvert_exporter": "python",
   "pygments_lexer": "ipython3",
   "version": "3.11.11"
  }
 },
 "nbformat": 4,
 "nbformat_minor": 2
}
