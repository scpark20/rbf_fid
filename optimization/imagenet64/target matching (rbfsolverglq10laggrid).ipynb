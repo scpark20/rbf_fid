{
 "cells": [
  {
   "cell_type": "code",
   "execution_count": 1,
   "metadata": {},
   "outputs": [],
   "source": [
    "import os\n",
    "os.chdir('../../')"
   ]
  },
  {
   "cell_type": "code",
   "execution_count": 2,
   "metadata": {},
   "outputs": [
    {
     "name": "stdout",
     "output_type": "stream",
     "text": [
      "Mon Mar 31 13:41:50 2025       \n",
      "+-----------------------------------------------------------------------------------------+\n",
      "| NVIDIA-SMI 550.144.03             Driver Version: 550.144.03     CUDA Version: 12.4     |\n",
      "|-----------------------------------------+------------------------+----------------------+\n",
      "| GPU  Name                 Persistence-M | Bus-Id          Disp.A | Volatile Uncorr. ECC |\n",
      "| Fan  Temp   Perf          Pwr:Usage/Cap |           Memory-Usage | GPU-Util  Compute M. |\n",
      "|                                         |                        |               MIG M. |\n",
      "|=========================================+========================+======================|\n",
      "|   0  NVIDIA GeForce RTX 3090        Off |   00000000:01:00.0 Off |                  N/A |\n",
      "| 30%   35C    P8             47W /  350W |     169MiB /  24576MiB |      0%      Default |\n",
      "|                                         |                        |                  N/A |\n",
      "+-----------------------------------------+------------------------+----------------------+\n",
      "                                                                                         \n",
      "+-----------------------------------------------------------------------------------------+\n",
      "| Processes:                                                                              |\n",
      "|  GPU   GI   CI        PID   Type   Process name                              GPU Memory |\n",
      "|        ID   ID                                                               Usage      |\n",
      "|=========================================================================================|\n",
      "|    0   N/A  N/A      1005      G   /usr/lib/xorg/Xorg                             85MiB |\n",
      "|    0   N/A  N/A      1337      G   /usr/bin/gnome-shell                           58MiB |\n",
      "|    0   N/A  N/A      2445      G   ...irefox/5783/usr/lib/firefox/firefox         11MiB |\n",
      "+-----------------------------------------------------------------------------------------+\n"
     ]
    }
   ],
   "source": [
    "!nvidia-smi\n",
    "os.environ[\"CUDA_VISIBLE_DEVICES\"] = \"0\""
   ]
  },
  {
   "cell_type": "markdown",
   "metadata": {},
   "source": [
    "### from \"sample pair.ipynb\""
   ]
  },
  {
   "cell_type": "code",
   "execution_count": 3,
   "metadata": {},
   "outputs": [
    {
     "name": "stdout",
     "output_type": "stream",
     "text": [
      "torch.Size([256, 3, 64, 64]) torch.Size([256, 3, 64, 64])\n"
     ]
    }
   ],
   "source": [
    "import torch\n",
    "import torch.nn.functional as F\n",
    "\n",
    "total_samples = 256\n",
    "save_file = f'/data/optimization/euler_NFE=1000_N={total_samples}_imagenet64.pt'\n",
    "pairs = torch.load(save_file)\n",
    "noise = pairs[:, 0]\n",
    "target = pairs[:, 1]\n",
    "print(noise.shape, target.shape)"
   ]
  },
  {
   "cell_type": "code",
   "execution_count": 4,
   "metadata": {},
   "outputs": [
    {
     "name": "stderr",
     "output_type": "stream",
     "text": [
      "INFO - main.py - 2025-03-31 13:41:57,997 - Using device: cuda\n"
     ]
    },
    {
     "name": "stdout",
     "output_type": "stream",
     "text": [
      "[prepare_model] Model is ready.\n"
     ]
    }
   ],
   "source": [
    "import sys\n",
    "import torch\n",
    "import numpy as np\n",
    "import matplotlib.pyplot as plt\n",
    "import torchvision.utils as vutils\n",
    "import random\n",
    "\n",
    "from main import parse_args_and_config, Diffusion\n",
    "from datasets import inverse_data_transform\n",
    "\n",
    "seed = 42\n",
    "random.seed(seed)\n",
    "np.random.seed(seed)\n",
    "torch.manual_seed(seed)\n",
    "torch.cuda.manual_seed_all(seed)\n",
    "\n",
    "torch.backends.cudnn.deterministic = True\n",
    "torch.backends.benchmark = False\n",
    "\n",
    "###############################################################################\n",
    "# 1) Notebook에서 sys.argv를 직접 설정 (argparse 흉내)\n",
    "###############################################################################\n",
    "sys.argv = [\n",
    "    \"main.py\",\n",
    "    \"--config\", \"imagenet64.yml\",  # 사용하려는 config\n",
    "    \"--sample\",\n",
    "    \"--dpm_solver_type\", \"data_prediction\",\n",
    "    \"--dpm_solver_order\", \"3\",\n",
    "    \"--skip_type\", \"logSNR\",\n",
    "    \"--ni\",\n",
    "\n",
    "    \"--sample_type\", \"rbfsolverglq10laggrid\",\n",
    "    \"--timesteps\", \"5\",\n",
    "    \"--log_scale_min\", \"-2.0\",\n",
    "    \"--log_scale_max\", \"3.0\",\n",
    "    \"--log_scale_num\", \"33\",\n",
    "    \"--scale_dir\", \"/data/data/rbfsolverglq10laggrid\",\n",
    "]\n",
    "\n",
    "###############################################################################\n",
    "# 2) 인자/설정 로드\n",
    "###############################################################################\n",
    "args, config = parse_args_and_config()\n",
    "\n",
    "###############################################################################\n",
    "# 3) Diffusion 객체 생성 -> 모델 로딩\n",
    "###############################################################################\n",
    "diffusion = Diffusion(args, config, rank=0)\n",
    "diffusion.prepare_model()\n",
    "diffusion.model.eval()\n",
    "\n",
    "###############################################################################\n",
    "# 4) 배치(25장) 한 번에 샘플링 -> 5x5 그리드(여백 없이) 시각화\n",
    "###############################################################################\n",
    "device = diffusion.device\n"
   ]
  },
  {
   "cell_type": "code",
   "execution_count": 5,
   "metadata": {},
   "outputs": [
    {
     "name": "stdout",
     "output_type": "stream",
     "text": [
      "mkdir: cannot create directory ‘/data/data/rbfsolverglq10laggrid’: File exists\n",
      "'NFE=10,p=3,dataset=IMAGENET64.npy'  'NFE=25,p=3,dataset=IMAGENET64.npy'\n",
      "'NFE=15,p=3,dataset=IMAGENET64.npy'  'NFE=5,p=3,dataset=IMAGENET64.npy'\n"
     ]
    }
   ],
   "source": [
    "!mkdir /data/data/rbfsolverglq10laggrid\n",
    "!ls /data/data/rbfsolverglq10laggrid"
   ]
  },
  {
   "cell_type": "code",
   "execution_count": 6,
   "metadata": {},
   "outputs": [
    {
     "name": "stdout",
     "output_type": "stream",
     "text": [
      "torch.Size([256, 3, 64, 64])\n",
      "/data/data/rbfsolverglq10laggrid/NFE=5,p=3,dataset=IMAGENET64.npy  saved!\n",
      "tensor(0.0414, device='cuda:0')\n"
     ]
    }
   ],
   "source": [
    "n = 256\n",
    "noise_batch = noise[:n].to(device)\n",
    "target_batch = target[:n].to(device)\n",
    "print(noise_batch.shape)\n",
    "(pred, optimal_log_scales, loss_grid_list), _ = diffusion.sample_image(noise_batch, diffusion.model, target=target_batch)\n",
    "loss = F.mse_loss(pred, target_batch)\n",
    "print(loss)"
   ]
  },
  {
   "cell_type": "code",
   "execution_count": 7,
   "metadata": {},
   "outputs": [
    {
     "data": {
      "image/png": "[encoded data removed]",
      "text/plain": [
       "<Figure size 1600x300 with 5 Axes>"
      ]
     },
     "metadata": {},
     "output_type": "display_data"
    }
   ],
   "source": [
    "import math\n",
    "import numpy as np\n",
    "import matplotlib.pyplot as plt\n",
    "\n",
    "def plot_loss_grid_list(loss_grid_list, args):\n",
    "    \"\"\"\n",
    "    subplot (num_rows x num_cols)에서 (0,0)은 비워두고 'Step : 1' 표시,\n",
    "    나머지 (0,1)부터 순차적으로 loss_grid를 그립니다.\n",
    "    x축, y축 값은 log_scale_min ~ log_scale_max 사이의 '정수'에 해당하는 지점만 표기합니다.\n",
    "    \"\"\"\n",
    "    num_plots = len(loss_grid_list)\n",
    "    num_cols = 5\n",
    "    num_rows = math.ceil(num_plots / num_cols)\n",
    "    \n",
    "    # 축 레이블용 값 (linspace)\n",
    "    axis = np.linspace(args.log_scale_min, args.log_scale_max, args.log_scale_num)\n",
    "    \n",
    "    # figure, axes 생성\n",
    "    fig, axes = plt.subplots(num_rows, num_cols, figsize=(16, 3 * num_rows))\n",
    "    \n",
    "    # axes 2차원 보장\n",
    "    if num_rows == 1 and num_cols == 1:\n",
    "        axes = np.array([[axes]])\n",
    "    elif num_rows == 1 or num_cols == 1:\n",
    "        axes = axes.reshape(num_rows, num_cols)\n",
    "    \n",
    "    # ------------------------\n",
    "    # (0,0)을 비우고, 중앙에 'Step : 1' 표시\n",
    "    # ------------------------\n",
    "    ax_empty = axes[0, 0]\n",
    "    ax_empty.set_axis_off()\n",
    "    ax_empty.text(0.5, 0.5, \"Step : 1\", fontsize=14,\n",
    "                  ha='center', va='center', transform=ax_empty.transAxes)\n",
    "    \n",
    "    # ------------------------\n",
    "    # x축, y축에서 찍을 '정수' 목록과 해당 인덱스 찾기\n",
    "    # ------------------------\n",
    "    # 예: log_scale_min=-1, log_scale_max=2 라면, -1~2 정수 => -1,0,1,2\n",
    "    start_int = int(math.floor(args.log_scale_min))\n",
    "    end_int   = int(math.ceil(args.log_scale_max))\n",
    "    \n",
    "    x_indices = []\n",
    "    x_labels  = []\n",
    "    y_indices = []\n",
    "    y_labels  = []\n",
    "    \n",
    "    # x축 / y축이 같은 axis라서 로직은 동일\n",
    "    for int_val in range(start_int, end_int + 1):\n",
    "        # axis에서 이 int_val에 가장 가까운 인덱스를 찾음\n",
    "        idx = np.argmin(np.abs(axis - int_val))\n",
    "        \n",
    "        # x, y 둘 다 같은 방식으로 추가\n",
    "        x_indices.append(idx)\n",
    "        x_labels.append(str(int_val))\n",
    "        \n",
    "        y_indices.append(idx)\n",
    "        y_labels.append(str(int_val))\n",
    "    \n",
    "    # 이제 (0,1)부터 loss_grid 시각화\n",
    "    max_subplots = num_rows * num_cols\n",
    "    \n",
    "    for i, loss_grid in enumerate(loss_grid_list):\n",
    "        subplot_index = i + 1  # (0,0)은 비웠으므로\n",
    "        \n",
    "        if subplot_index >= max_subplots:\n",
    "            print(\"Warning: subplot 갯수 초과. 일부 데이터는 표시되지 않습니다.\")\n",
    "            break\n",
    "        \n",
    "        row = subplot_index // num_cols\n",
    "        col = subplot_index % num_cols\n",
    "        \n",
    "        ax = axes[row, col]\n",
    "        ax.set_title(f\"Step : {i + 2}\")\n",
    "        \n",
    "        # 히트맵\n",
    "        im = ax.imshow(loss_grid, aspect='auto', interpolation='nearest')\n",
    "        \n",
    "        # X축, Y축에 '정수' 인덱스만 표시\n",
    "        ax.set_xticks(x_indices)\n",
    "        ax.set_xticklabels(x_labels)\n",
    "        ax.set_yticks(y_indices)\n",
    "        ax.set_yticklabels(y_labels)\n",
    "        \n",
    "        ax.set_xlabel(\"Corrector\")\n",
    "        ax.set_ylabel(\"Predictor\")\n",
    "        \n",
    "        # 최소값 위치 표시\n",
    "        min_idx = np.argmin(loss_grid)\n",
    "        min_row, min_col = np.unravel_index(min_idx, loss_grid.shape)\n",
    "        ax.plot(min_col, min_row, 'x', markersize=12, markeredgewidth=2, color='red')\n",
    "        \n",
    "        # 필요 시 컬러바\n",
    "        # fig.colorbar(im, ax=ax, format='%.3f')\n",
    "\n",
    "    plt.tight_layout()\n",
    "    plt.show()\n",
    "\n",
    "plot_loss_grid_list(loss_grid_list, args)\n"
   ]
  },
  {
   "cell_type": "code",
   "execution_count": 9,
   "metadata": {},
   "outputs": [
    {
     "name": "stdout",
     "output_type": "stream",
     "text": [
      "Step : 2 0.3291454000812935\n",
      "Step : 3 0.799416559774486\n",
      "Step : 4 0.8118900799711105\n"
     ]
    }
   ],
   "source": [
    "import numpy as np\n",
    "\n",
    "def row_col_correlation(matrix: np.ndarray) -> float:\n",
    "    \"\"\"\n",
    "    (n x n) 2차원 넘파이 배열을 입력받아,\n",
    "    행별 합 벡터와 열별 합 벡터 간의 피어슨 상관계수를 반환합니다.\n",
    "\n",
    "    :param matrix: (n x n) 형태의 수치형 numpy 배열\n",
    "    :return: 행 합과 열 합 간의 상관계수 (float)\n",
    "    \"\"\"\n",
    "    # 행별 합: shape (n,)\n",
    "    row_sums = matrix.sum(axis=1)\n",
    "    # 열별 합: shape (n,)\n",
    "    col_sums = matrix.sum(axis=0)\n",
    "    \n",
    "    # 만약 row_sums나 col_sums가 모두 같은 값이라 분산=0이면\n",
    "    # 상관계수가 정의되지 않으므로, 에러 처리 또는 None 반환\n",
    "    if np.all(row_sums == row_sums[0]) or np.all(col_sums == col_sums[0]):\n",
    "        # 예: 에러 발생시키기\n",
    "        raise ValueError(\"행 합 또는 열 합이 모두 동일하여 상관계수를 구할 수 없습니다.\")\n",
    "    \n",
    "    # 피어슨 상관계수 계산: np.corrcoef(2개 벡터)는 2x2 공분산 행렬을 반환\n",
    "    corr_matrix = np.corrcoef(row_sums, col_sums)\n",
    "    corr_value = corr_matrix[0, 1]  # off-diagonal 원소가 상관계수\n",
    "\n",
    "    return corr_value\n",
    "\n",
    "for i, loss_grid in enumerate(loss_grid_list):\n",
    "    if i >= len(loss_grid_list)-1:\n",
    "        break\n",
    "    \n",
    "    print('Step :', i+2, row_col_correlation(loss_grid))"
   ]
  },
  {
   "cell_type": "code",
   "execution_count": null,
   "metadata": {},
   "outputs": [],
   "source": []
  },
  {
   "cell_type": "code",
   "execution_count": null,
   "metadata": {},
   "outputs": [],
   "source": []
  },
  {
   "cell_type": "code",
   "execution_count": null,
   "metadata": {},
   "outputs": [],
   "source": []
  }
 ],
 "metadata": {
  "kernelspec": {
   "display_name": "ste",
   "language": "python",
   "name": "python3"
  },
  "language_info": {
   "codemirror_mode": {
    "name": "ipython",
    "version": 3
   },
   "file_extension": ".py",
   "mimetype": "text/x-python",
   "name": "python",
   "nbconvert_exporter": "python",
   "pygments_lexer": "ipython3",
   "version": "3.11.11"
  }
 },
 "nbformat": 4,
 "nbformat_minor": 2
}
