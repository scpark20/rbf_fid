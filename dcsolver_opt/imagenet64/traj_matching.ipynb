{
 "cells": [
  {
   "cell_type": "code",
   "execution_count": 1,
   "metadata": {},
   "outputs": [],
   "source": [
    "import os\n",
    "os.chdir('../../')"
   ]
  },
  {
   "cell_type": "code",
   "execution_count": 2,
   "metadata": {},
   "outputs": [
    {
     "name": "stdout",
     "output_type": "stream",
     "text": [
      "Fri May  2 16:16:01 2025       \n",
      "+-----------------------------------------------------------------------------------------+\n",
      "| NVIDIA-SMI 570.124.04             Driver Version: 570.124.04     CUDA Version: 12.8     |\n",
      "|-----------------------------------------+------------------------+----------------------+\n",
      "| GPU  Name                 Persistence-M | Bus-Id          Disp.A | Volatile Uncorr. ECC |\n",
      "| Fan  Temp   Perf          Pwr:Usage/Cap |           Memory-Usage | GPU-Util  Compute M. |\n",
      "|                                         |                        |               MIG M. |\n",
      "|=========================================+========================+======================|\n",
      "|   0  NVIDIA GeForce RTX 4090        Off |   00000000:02:00.0 Off |                  Off |\n",
      "| 30%   36C    P8             12W /  450W |      87MiB /  24564MiB |      0%      Default |\n",
      "|                                         |                        |                  N/A |\n",
      "+-----------------------------------------+------------------------+----------------------+\n",
      "                                                                                         \n",
      "+-----------------------------------------------------------------------------------------+\n",
      "| Processes:                                                                              |\n",
      "|  GPU   GI   CI              PID   Type   Process name                        GPU Memory |\n",
      "|        ID   ID                                                               Usage      |\n",
      "|=========================================================================================|\n",
      "|    0   N/A  N/A            1522      G   /usr/lib/xorg/Xorg                       54MiB |\n",
      "|    0   N/A  N/A            1788      G   /usr/bin/gnome-shell                     12MiB |\n",
      "+-----------------------------------------------------------------------------------------+\n"
     ]
    }
   ],
   "source": [
    "!nvidia-smi\n",
    "os.environ[\"CUDA_VISIBLE_DEVICES\"] = \"0\""
   ]
  },
  {
   "cell_type": "markdown",
   "metadata": {},
   "source": [
    "### from \"sample pair.ipynb\""
   ]
  },
  {
   "cell_type": "code",
   "execution_count": 3,
   "metadata": {},
   "outputs": [
    {
     "name": "stdout",
     "output_type": "stream",
     "text": [
      "0.npz\t 113.npz  127.npz  25.npz  39.npz  52.npz  66.npz  7.npz   93.npz\n",
      "100.npz  114.npz  12.npz   26.npz  3.npz   53.npz  67.npz  80.npz  94.npz\n",
      "101.npz  115.npz  13.npz   27.npz  40.npz  54.npz  68.npz  81.npz  95.npz\n",
      "102.npz  116.npz  14.npz   28.npz  41.npz  55.npz  69.npz  82.npz  96.npz\n",
      "103.npz  117.npz  15.npz   29.npz  42.npz  56.npz  6.npz   83.npz  97.npz\n",
      "104.npz  118.npz  16.npz   2.npz   43.npz  57.npz  70.npz  84.npz  98.npz\n",
      "105.npz  119.npz  17.npz   30.npz  44.npz  58.npz  71.npz  85.npz  99.npz\n",
      "106.npz  11.npz   18.npz   31.npz  45.npz  59.npz  72.npz  86.npz  9.npz\n",
      "107.npz  120.npz  19.npz   32.npz  46.npz  5.npz   73.npz  87.npz\n",
      "108.npz  121.npz  1.npz    33.npz  47.npz  60.npz  74.npz  88.npz\n",
      "109.npz  122.npz  20.npz   34.npz  48.npz  61.npz  75.npz  89.npz\n",
      "10.npz\t 123.npz  21.npz   35.npz  49.npz  62.npz  76.npz  8.npz\n",
      "110.npz  124.npz  22.npz   36.npz  4.npz   63.npz  77.npz  90.npz\n",
      "111.npz  125.npz  23.npz   37.npz  50.npz  64.npz  78.npz  91.npz\n",
      "112.npz  126.npz  24.npz   38.npz  51.npz  65.npz  79.npz  92.npz\n"
     ]
    }
   ],
   "source": [
    "!ls samples/64x64_diffusion/dpmsolver++_order1_200/image_samples/images"
   ]
  },
  {
   "cell_type": "code",
   "execution_count": 4,
   "metadata": {},
   "outputs": [
    {
     "name": "stdout",
     "output_type": "stream",
     "text": [
      "torch.Size([201, 16, 3, 64, 64]) (201,)\n"
     ]
    },
    {
     "name": "stderr",
     "output_type": "stream",
     "text": [
      "/tmp/ipykernel_616609/2044542655.py:17: UserWarning: Creating a tensor from a list of numpy.ndarrays is extremely slow. Please consider converting the list to a single numpy.ndarray with numpy.array() before converting to a tensor. (Triggered internally at /pytorch/torch/csrc/utils/tensor_new.cpp:254.)\n",
      "  trajs = torch.tensor(trajs).transpose(0, 1)\n"
     ]
    }
   ],
   "source": [
    "import numpy as np\n",
    "import torch\n",
    "import torch.nn.functional as F\n",
    "\n",
    "N = 128\n",
    "M = 128\n",
    "K = 1\n",
    "root_dir = 'samples/64x64_diffusion/dpmsolver++_order1_200/image_samples/images'\n",
    "npz_files = [os.path.join(root_dir, f) for f in os.listdir(root_dir) if '.npz' in f]\n",
    "\n",
    "trajs = []\n",
    "timesteps = []\n",
    "for file in npz_files[:16]:\n",
    "    data = np.load(file)\n",
    "    trajs.append(data['traj'])\n",
    "    timesteps.append(data['timesteps'])\n",
    "trajs = torch.tensor(trajs).transpose(0, 1)\n",
    "timesteps = timesteps[0]\n",
    "print(trajs.shape, timesteps.shape)"
   ]
  },
  {
   "cell_type": "code",
   "execution_count": 5,
   "metadata": {},
   "outputs": [
    {
     "name": "stderr",
     "output_type": "stream",
     "text": [
      "2025-05-02 16:16:05.860564: I tensorflow/core/util/port.cc:113] oneDNN custom operations are on. You may see slightly different numerical results due to floating-point round-off errors from different computation orders. To turn them off, set the environment variable `TF_ENABLE_ONEDNN_OPTS=0`.\n",
      "2025-05-02 16:16:05.880833: E external/local_xla/xla/stream_executor/cuda/cuda_dnn.cc:9261] Unable to register cuDNN factory: Attempting to register factory for plugin cuDNN when one has already been registered\n",
      "2025-05-02 16:16:05.880858: E external/local_xla/xla/stream_executor/cuda/cuda_fft.cc:607] Unable to register cuFFT factory: Attempting to register factory for plugin cuFFT when one has already been registered\n",
      "2025-05-02 16:16:05.881775: E external/local_xla/xla/stream_executor/cuda/cuda_blas.cc:1515] Unable to register cuBLAS factory: Attempting to register factory for plugin cuBLAS when one has already been registered\n",
      "2025-05-02 16:16:05.886379: I tensorflow/core/platform/cpu_feature_guard.cc:182] This TensorFlow binary is optimized to use available CPU instructions in performance-critical operations.\n",
      "To enable the following instructions: AVX2 AVX_VNNI FMA, in other operations, rebuild TensorFlow with the appropriate compiler flags.\n",
      "2025-05-02 16:16:06.391508: W tensorflow/compiler/tf2tensorrt/utils/py_utils.cc:38] TF-TRT Warning: Could not find TensorRT\n"
     ]
    }
   ],
   "source": [
    "import sys\n",
    "import torch\n",
    "import numpy as np\n",
    "import matplotlib.pyplot as plt\n",
    "import torchvision.utils as vutils\n",
    "import random\n",
    "\n",
    "from main import parse_args_and_config, Diffusion\n",
    "from datasets import inverse_data_transform\n",
    "\n",
    "seed = 42\n",
    "random.seed(seed)\n",
    "np.random.seed(seed)\n",
    "torch.manual_seed(seed)\n",
    "torch.cuda.manual_seed_all(seed)\n",
    "\n",
    "torch.backends.cudnn.deterministic = True\n",
    "torch.backends.benchmark = False\n"
   ]
  },
  {
   "cell_type": "code",
   "execution_count": 6,
   "metadata": {},
   "outputs": [],
   "source": [
    "!mkdir -p /data/guided-diffusion/dc/imagenet64/"
   ]
  },
  {
   "cell_type": "code",
   "execution_count": 11,
   "metadata": {},
   "outputs": [
    {
     "name": "stderr",
     "output_type": "stream",
     "text": [
      "INFO - main.py - 2025-05-02 16:17:21,828 - Using device: cuda\n",
      "INFO - main.py - 2025-05-02 16:17:21,828 - Using device: cuda\n",
      "INFO - main.py - 2025-05-02 16:17:21,828 - Using device: cuda\n",
      "INFO - main.py - 2025-05-02 16:17:21,828 - Using device: cuda\n"
     ]
    },
    {
     "name": "stdout",
     "output_type": "stream",
     "text": [
      "[prepare_model] Model is ready.\n"
     ]
    },
    {
     "name": "stderr",
     "output_type": "stream",
     "text": [
      "INFO - main.py - 2025-05-02 16:17:31,148 - Using device: cuda\n",
      "INFO - main.py - 2025-05-02 16:17:31,148 - Using device: cuda\n",
      "INFO - main.py - 2025-05-02 16:17:31,148 - Using device: cuda\n",
      "INFO - main.py - 2025-05-02 16:17:31,148 - Using device: cuda\n",
      "INFO - main.py - 2025-05-02 16:17:31,148 - Using device: cuda\n"
     ]
    },
    {
     "name": "stdout",
     "output_type": "stream",
     "text": [
      "/data/guided-diffusion/dc/imagenet64/NFE=5,p=3.npz  saved!\n",
      "dcsolver\n",
      "NFE : 5 order : 3 loss : tensor(0.0583, device='cuda:0')\n",
      "[prepare_model] Model is ready.\n"
     ]
    },
    {
     "name": "stderr",
     "output_type": "stream",
     "text": [
      "INFO - main.py - 2025-05-02 16:17:44,784 - Using device: cuda\n",
      "INFO - main.py - 2025-05-02 16:17:44,784 - Using device: cuda\n",
      "INFO - main.py - 2025-05-02 16:17:44,784 - Using device: cuda\n",
      "INFO - main.py - 2025-05-02 16:17:44,784 - Using device: cuda\n",
      "INFO - main.py - 2025-05-02 16:17:44,784 - Using device: cuda\n",
      "INFO - main.py - 2025-05-02 16:17:44,784 - Using device: cuda\n"
     ]
    },
    {
     "name": "stdout",
     "output_type": "stream",
     "text": [
      "/data/guided-diffusion/dc/imagenet64/NFE=6,p=3.npz  saved!\n",
      "dcsolver\n",
      "NFE : 6 order : 3 loss : tensor(0.0306, device='cuda:0')\n",
      "[prepare_model] Model is ready.\n"
     ]
    },
    {
     "name": "stderr",
     "output_type": "stream",
     "text": [
      "INFO - main.py - 2025-05-02 16:18:07,163 - Using device: cuda\n",
      "INFO - main.py - 2025-05-02 16:18:07,163 - Using device: cuda\n",
      "INFO - main.py - 2025-05-02 16:18:07,163 - Using device: cuda\n",
      "INFO - main.py - 2025-05-02 16:18:07,163 - Using device: cuda\n",
      "INFO - main.py - 2025-05-02 16:18:07,163 - Using device: cuda\n",
      "INFO - main.py - 2025-05-02 16:18:07,163 - Using device: cuda\n",
      "INFO - main.py - 2025-05-02 16:18:07,163 - Using device: cuda\n"
     ]
    },
    {
     "name": "stdout",
     "output_type": "stream",
     "text": [
      "/data/guided-diffusion/dc/imagenet64/NFE=8,p=3.npz  saved!\n",
      "dcsolver\n",
      "NFE : 8 order : 3 loss : tensor(0.0118, device='cuda:0')\n",
      "[prepare_model] Model is ready.\n"
     ]
    },
    {
     "name": "stderr",
     "output_type": "stream",
     "text": [
      "INFO - main.py - 2025-05-02 16:18:38,232 - Using device: cuda\n",
      "INFO - main.py - 2025-05-02 16:18:38,232 - Using device: cuda\n",
      "INFO - main.py - 2025-05-02 16:18:38,232 - Using device: cuda\n",
      "INFO - main.py - 2025-05-02 16:18:38,232 - Using device: cuda\n",
      "INFO - main.py - 2025-05-02 16:18:38,232 - Using device: cuda\n",
      "INFO - main.py - 2025-05-02 16:18:38,232 - Using device: cuda\n",
      "INFO - main.py - 2025-05-02 16:18:38,232 - Using device: cuda\n",
      "INFO - main.py - 2025-05-02 16:18:38,232 - Using device: cuda\n"
     ]
    },
    {
     "name": "stdout",
     "output_type": "stream",
     "text": [
      "/data/guided-diffusion/dc/imagenet64/NFE=10,p=3.npz  saved!\n",
      "dcsolver\n",
      "NFE : 10 order : 3 loss : tensor(0.0067, device='cuda:0')\n",
      "[prepare_model] Model is ready.\n"
     ]
    },
    {
     "name": "stderr",
     "output_type": "stream",
     "text": [
      "INFO - main.py - 2025-05-02 16:19:18,012 - Using device: cuda\n",
      "INFO - main.py - 2025-05-02 16:19:18,012 - Using device: cuda\n",
      "INFO - main.py - 2025-05-02 16:19:18,012 - Using device: cuda\n",
      "INFO - main.py - 2025-05-02 16:19:18,012 - Using device: cuda\n",
      "INFO - main.py - 2025-05-02 16:19:18,012 - Using device: cuda\n",
      "INFO - main.py - 2025-05-02 16:19:18,012 - Using device: cuda\n",
      "INFO - main.py - 2025-05-02 16:19:18,012 - Using device: cuda\n",
      "INFO - main.py - 2025-05-02 16:19:18,012 - Using device: cuda\n",
      "INFO - main.py - 2025-05-02 16:19:18,012 - Using device: cuda\n"
     ]
    },
    {
     "name": "stdout",
     "output_type": "stream",
     "text": [
      "/data/guided-diffusion/dc/imagenet64/NFE=12,p=3.npz  saved!\n",
      "dcsolver\n",
      "NFE : 12 order : 3 loss : tensor(0.0027, device='cuda:0')\n",
      "[prepare_model] Model is ready.\n"
     ]
    },
    {
     "name": "stderr",
     "output_type": "stream",
     "text": [
      "INFO - main.py - 2025-05-02 16:20:11,066 - Using device: cuda\n",
      "INFO - main.py - 2025-05-02 16:20:11,066 - Using device: cuda\n",
      "INFO - main.py - 2025-05-02 16:20:11,066 - Using device: cuda\n",
      "INFO - main.py - 2025-05-02 16:20:11,066 - Using device: cuda\n",
      "INFO - main.py - 2025-05-02 16:20:11,066 - Using device: cuda\n",
      "INFO - main.py - 2025-05-02 16:20:11,066 - Using device: cuda\n",
      "INFO - main.py - 2025-05-02 16:20:11,066 - Using device: cuda\n",
      "INFO - main.py - 2025-05-02 16:20:11,066 - Using device: cuda\n",
      "INFO - main.py - 2025-05-02 16:20:11,066 - Using device: cuda\n",
      "INFO - main.py - 2025-05-02 16:20:11,066 - Using device: cuda\n"
     ]
    },
    {
     "name": "stdout",
     "output_type": "stream",
     "text": [
      "/data/guided-diffusion/dc/imagenet64/NFE=15,p=3.npz  saved!\n",
      "dcsolver\n",
      "NFE : 15 order : 3 loss : tensor(0.0011, device='cuda:0')\n",
      "[prepare_model] Model is ready.\n"
     ]
    },
    {
     "name": "stderr",
     "output_type": "stream",
     "text": [
      "INFO - main.py - 2025-05-02 16:21:25,837 - Using device: cuda\n",
      "INFO - main.py - 2025-05-02 16:21:25,837 - Using device: cuda\n",
      "INFO - main.py - 2025-05-02 16:21:25,837 - Using device: cuda\n",
      "INFO - main.py - 2025-05-02 16:21:25,837 - Using device: cuda\n",
      "INFO - main.py - 2025-05-02 16:21:25,837 - Using device: cuda\n",
      "INFO - main.py - 2025-05-02 16:21:25,837 - Using device: cuda\n",
      "INFO - main.py - 2025-05-02 16:21:25,837 - Using device: cuda\n",
      "INFO - main.py - 2025-05-02 16:21:25,837 - Using device: cuda\n",
      "INFO - main.py - 2025-05-02 16:21:25,837 - Using device: cuda\n",
      "INFO - main.py - 2025-05-02 16:21:25,837 - Using device: cuda\n",
      "INFO - main.py - 2025-05-02 16:21:25,837 - Using device: cuda\n"
     ]
    },
    {
     "name": "stdout",
     "output_type": "stream",
     "text": [
      "/data/guided-diffusion/dc/imagenet64/NFE=20,p=3.npz  saved!\n",
      "dcsolver\n",
      "NFE : 20 order : 3 loss : tensor(0.0007, device='cuda:0')\n",
      "[prepare_model] Model is ready.\n"
     ]
    },
    {
     "name": "stderr",
     "output_type": "stream",
     "text": [
      "INFO - main.py - 2025-05-02 16:23:02,124 - Using device: cuda\n",
      "INFO - main.py - 2025-05-02 16:23:02,124 - Using device: cuda\n",
      "INFO - main.py - 2025-05-02 16:23:02,124 - Using device: cuda\n",
      "INFO - main.py - 2025-05-02 16:23:02,124 - Using device: cuda\n",
      "INFO - main.py - 2025-05-02 16:23:02,124 - Using device: cuda\n",
      "INFO - main.py - 2025-05-02 16:23:02,124 - Using device: cuda\n",
      "INFO - main.py - 2025-05-02 16:23:02,124 - Using device: cuda\n",
      "INFO - main.py - 2025-05-02 16:23:02,124 - Using device: cuda\n",
      "INFO - main.py - 2025-05-02 16:23:02,124 - Using device: cuda\n",
      "INFO - main.py - 2025-05-02 16:23:02,124 - Using device: cuda\n",
      "INFO - main.py - 2025-05-02 16:23:02,124 - Using device: cuda\n",
      "INFO - main.py - 2025-05-02 16:23:02,124 - Using device: cuda\n"
     ]
    },
    {
     "name": "stdout",
     "output_type": "stream",
     "text": [
      "/data/guided-diffusion/dc/imagenet64/NFE=25,p=3.npz  saved!\n",
      "dcsolver\n",
      "NFE : 25 order : 3 loss : tensor(0.0001, device='cuda:0')\n",
      "[prepare_model] Model is ready.\n"
     ]
    },
    {
     "name": "stderr",
     "output_type": "stream",
     "text": [
      "INFO - main.py - 2025-05-02 16:25:00,135 - Using device: cuda\n",
      "INFO - main.py - 2025-05-02 16:25:00,135 - Using device: cuda\n",
      "INFO - main.py - 2025-05-02 16:25:00,135 - Using device: cuda\n",
      "INFO - main.py - 2025-05-02 16:25:00,135 - Using device: cuda\n",
      "INFO - main.py - 2025-05-02 16:25:00,135 - Using device: cuda\n",
      "INFO - main.py - 2025-05-02 16:25:00,135 - Using device: cuda\n",
      "INFO - main.py - 2025-05-02 16:25:00,135 - Using device: cuda\n",
      "INFO - main.py - 2025-05-02 16:25:00,135 - Using device: cuda\n",
      "INFO - main.py - 2025-05-02 16:25:00,135 - Using device: cuda\n",
      "INFO - main.py - 2025-05-02 16:25:00,135 - Using device: cuda\n",
      "INFO - main.py - 2025-05-02 16:25:00,135 - Using device: cuda\n",
      "INFO - main.py - 2025-05-02 16:25:00,135 - Using device: cuda\n",
      "INFO - main.py - 2025-05-02 16:25:00,135 - Using device: cuda\n"
     ]
    },
    {
     "name": "stdout",
     "output_type": "stream",
     "text": [
      "/data/guided-diffusion/dc/imagenet64/NFE=30,p=3.npz  saved!\n",
      "dcsolver\n",
      "NFE : 30 order : 3 loss : tensor(0.0002, device='cuda:0')\n",
      "[prepare_model] Model is ready.\n"
     ]
    },
    {
     "name": "stderr",
     "output_type": "stream",
     "text": [
      "INFO - main.py - 2025-05-02 16:27:19,825 - Using device: cuda\n",
      "INFO - main.py - 2025-05-02 16:27:19,825 - Using device: cuda\n",
      "INFO - main.py - 2025-05-02 16:27:19,825 - Using device: cuda\n",
      "INFO - main.py - 2025-05-02 16:27:19,825 - Using device: cuda\n",
      "INFO - main.py - 2025-05-02 16:27:19,825 - Using device: cuda\n",
      "INFO - main.py - 2025-05-02 16:27:19,825 - Using device: cuda\n",
      "INFO - main.py - 2025-05-02 16:27:19,825 - Using device: cuda\n",
      "INFO - main.py - 2025-05-02 16:27:19,825 - Using device: cuda\n",
      "INFO - main.py - 2025-05-02 16:27:19,825 - Using device: cuda\n",
      "INFO - main.py - 2025-05-02 16:27:19,825 - Using device: cuda\n",
      "INFO - main.py - 2025-05-02 16:27:19,825 - Using device: cuda\n",
      "INFO - main.py - 2025-05-02 16:27:19,825 - Using device: cuda\n",
      "INFO - main.py - 2025-05-02 16:27:19,825 - Using device: cuda\n",
      "INFO - main.py - 2025-05-02 16:27:19,825 - Using device: cuda\n"
     ]
    },
    {
     "name": "stdout",
     "output_type": "stream",
     "text": [
      "/data/guided-diffusion/dc/imagenet64/NFE=35,p=3.npz  saved!\n",
      "dcsolver\n",
      "NFE : 35 order : 3 loss : tensor(0.0003, device='cuda:0')\n",
      "[prepare_model] Model is ready.\n",
      "/data/guided-diffusion/dc/imagenet64/NFE=40,p=3.npz  saved!\n",
      "dcsolver\n",
      "NFE : 40 order : 3 loss : tensor(0.0002, device='cuda:0')\n"
     ]
    }
   ],
   "source": [
    "for order in [3]:\n",
    "    for NFE in [5, 6, 8, 10, 12, 15, 20, 25, 30, 35, 40]:\n",
    "        ###############################################################################\n",
    "        # 1) Notebook에서 sys.argv를 직접 설정 (argparse 흉내)\n",
    "        ###############################################################################\n",
    "        sys.argv = [\n",
    "            \"main.py\",\n",
    "            \"--config\", \"imagenet64.yml\",  # 사용하려는 config\n",
    "            \"--sample\",\n",
    "            \"--fid\",\n",
    "            \"--dpm_solver_type\", \"data_prediction\",\n",
    "            \"--dpm_solver_order\", f\"{order}\",\n",
    "            \"--skip_type\", \"logSNR\",\n",
    "            \"--ni\",\n",
    "\n",
    "            \"--sample_type\", \"dcsolver\",\n",
    "            \"--timesteps\", f\"{NFE}\",\n",
    "            \"--dc_dir\", \"/data/guided-diffusion/dc/imagenet64/\",\n",
    "        ]\n",
    "\n",
    "        ###############################################################################\n",
    "        # 2) 인자/설정 로드\n",
    "        ###############################################################################\n",
    "        args, config = parse_args_and_config()\n",
    "\n",
    "        ###############################################################################\n",
    "        # 3) Diffusion 객체 생성 -> 모델 로딩\n",
    "        ###############################################################################\n",
    "        diffusion = Diffusion(args, config, rank=0)\n",
    "        diffusion.prepare_model()\n",
    "        diffusion.model.eval()\n",
    "\n",
    "        ###############################################################################\n",
    "        # 4) 배치(25장) 한 번에 샘플링 -> 5x5 그리드(여백 없이) 시각화\n",
    "        ###############################################################################\n",
    "        device = diffusion.device\n",
    "        trajs = trajs.to(device)\n",
    "        pred, _ = diffusion.sample_image(trajs[0], diffusion.model, target=(trajs, timesteps))\n",
    "        print('NFE :', NFE, 'order :', order, 'loss :', F.mse_loss(trajs[-1], pred))\n"
   ]
  },
  {
   "cell_type": "code",
   "execution_count": 15,
   "metadata": {},
   "outputs": [
    {
     "data": {
      "text/plain": [
       "array([ 1.        ,  1.        ,  0.73951977,  0.79444087,  0.86400801,\n",
       "        0.89810824,  0.79757202,  0.87910068,  0.86734504,  0.85085368,\n",
       "        0.86095625,  0.85885626, -0.77172303,  1.01838243,  1.34770083,\n",
       "        0.44733763,  0.83823639,  0.91461462,  1.30667841,  0.43183535,\n",
       "        0.92643923,  0.92441142,  0.81046242,  0.8445676 ,  0.85318923,\n",
       "        0.84935844,  0.85597777,  0.8632955 ,  0.86320835,  0.80640626,\n",
       "        0.8510704 ,  0.82124048,  0.84072918,  0.82903969,  0.86127883,\n",
       "        0.83582997,  0.90094668,  0.87084967,  0.87426615,  1.37519038])"
      ]
     },
     "execution_count": 15,
     "metadata": {},
     "output_type": "execute_result"
    }
   ],
   "source": [
    "data = np.load('/data/guided-diffusion/dc/imagenet64/NFE=40,p=3.npz')\n",
    "data['dc_ratios']"
   ]
  },
  {
   "cell_type": "markdown",
   "metadata": {},
   "source": []
  },
  {
   "cell_type": "code",
   "execution_count": 16,
   "metadata": {},
   "outputs": [
    {
     "name": "stdout",
     "output_type": "stream",
     "text": [
      "'NFE=10,p=3.npz'  'NFE=20,p=3.npz'  'NFE=35,p=3.npz'  'NFE=6,p=3.npz'\n",
      "'NFE=12,p=3.npz'  'NFE=25,p=3.npz'  'NFE=40,p=3.npz'  'NFE=8,p=3.npz'\n",
      "'NFE=15,p=3.npz'  'NFE=30,p=3.npz'  'NFE=5,p=3.npz'\n"
     ]
    }
   ],
   "source": [
    "!ls /data/guided-diffusion/dc/imagenet64/"
   ]
  },
  {
   "cell_type": "code",
   "execution_count": null,
   "metadata": {},
   "outputs": [],
   "source": []
  }
 ],
 "metadata": {
  "kernelspec": {
   "display_name": "rbf",
   "language": "python",
   "name": "python3"
  },
  "language_info": {
   "codemirror_mode": {
    "name": "ipython",
    "version": 3
   },
   "file_extension": ".py",
   "mimetype": "text/x-python",
   "name": "python",
   "nbconvert_exporter": "python",
   "pygments_lexer": "ipython3",
   "version": "3.11.11"
  }
 },
 "nbformat": 4,
 "nbformat_minor": 2
}
